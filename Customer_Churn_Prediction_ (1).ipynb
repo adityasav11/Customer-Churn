{
  "cells": [
    {
      "cell_type": "markdown",
      "metadata": {
        "_uuid": "9d30d8a6045a8b08aba09e2a3230c666bac821f1",
        "id": "Vwd49kjXQatw"
      },
      "source": [
        "# Customer Churn  Prediction Model"
      ]
    },
    {
      "cell_type": "markdown",
      "metadata": {
        "_uuid": "3436cb2bcf6466380cf2f43733f98c2112e43087",
        "id": "oqk2K4mBQat2"
      },
      "source": [
        "### Reading and Understanding the Data"
      ]
    },
    {
      "cell_type": "code",
      "execution_count": null,
      "metadata": {
        "_uuid": "431b6c4e49b75ce7b04e909b83906dfd7b858959",
        "id": "GOOU2dR6Qat3"
      },
      "outputs": [],
      "source": [
        "# Import the numpy and pandas package\n",
        "import numpy as np\n",
        "import pandas as pd\n",
        "# Data Visualisation\n",
        "import matplotlib.pyplot as plt \n",
        "import seaborn as sns\n",
        "\n",
        "import warnings\n",
        "warnings.simplefilter('ignore')"
      ]
    },
    {
      "cell_type": "code",
      "execution_count": null,
      "metadata": {
        "_uuid": "746ef6bc4fafc58e8a37083aaece63eb79bc2308",
        "id": "ZKtIprzFQat4"
      },
      "outputs": [],
      "source": [
        "data = pd.DataFrame(pd.read_csv(\"customer churn dataset.csv\"))"
      ]
    },
    {
      "cell_type": "code",
      "execution_count": null,
      "metadata": {
        "_uuid": "d765ad0cca904b30124809f090959c1540dfe729",
        "scrolled": false,
        "id": "KYTe801uQat5",
        "outputId": "0d6a32b7-78d7-4895-8bbe-d71b40ca725c"
      },
      "outputs": [
        {
          "data": {
            "text/html": [
              "<div>\n",
              "<style scoped>\n",
              "    .dataframe tbody tr th:only-of-type {\n",
              "        vertical-align: middle;\n",
              "    }\n",
              "\n",
              "    .dataframe tbody tr th {\n",
              "        vertical-align: top;\n",
              "    }\n",
              "\n",
              "    .dataframe thead th {\n",
              "        text-align: right;\n",
              "    }\n",
              "</style>\n",
              "<table border=\"1\" class=\"dataframe\">\n",
              "  <thead>\n",
              "    <tr style=\"text-align: right;\">\n",
              "      <th></th>\n",
              "      <th>Age</th>\n",
              "      <th>Gender</th>\n",
              "      <th>Marital Status</th>\n",
              "      <th>Occupation</th>\n",
              "      <th>Monthly Income</th>\n",
              "      <th>Educational Qualifications</th>\n",
              "      <th>Family size</th>\n",
              "      <th>latitude</th>\n",
              "      <th>longitude</th>\n",
              "      <th>Pin code</th>\n",
              "      <th>Medium (P1)</th>\n",
              "      <th>Medium (P2)</th>\n",
              "      <th>Meal(P1)</th>\n",
              "      <th>Meal(P2)</th>\n",
              "      <th>Perference(P1)</th>\n",
              "      <th>Perference(P2)</th>\n",
              "      <th>Ease and convenient</th>\n",
              "      <th>Time saving</th>\n",
              "      <th>More restaurant choices</th>\n",
              "      <th>Easy Payment option</th>\n",
              "      <th>More Offers and Discount</th>\n",
              "      <th>Good Food quality</th>\n",
              "      <th>Good Tracking system</th>\n",
              "      <th>Self Cooking</th>\n",
              "      <th>Health Concern</th>\n",
              "      <th>Late Delivery</th>\n",
              "      <th>Poor Hygiene</th>\n",
              "      <th>Bad past experience</th>\n",
              "      <th>Unavailability</th>\n",
              "      <th>Unaffordable</th>\n",
              "      <th>Long delivery time</th>\n",
              "      <th>Delay of delivery person getting assigned</th>\n",
              "      <th>Delay of delivery person picking up food</th>\n",
              "      <th>Wrong order delivered</th>\n",
              "      <th>Missing item</th>\n",
              "      <th>Order placed by mistake</th>\n",
              "      <th>Influence of time</th>\n",
              "      <th>Order Time</th>\n",
              "      <th>Maximum wait time</th>\n",
              "      <th>Residence in busy location</th>\n",
              "      <th>Google Maps Accuracy</th>\n",
              "      <th>Good Road Condition</th>\n",
              "      <th>Low quantity low time</th>\n",
              "      <th>Delivery person ability</th>\n",
              "      <th>Influence of rating</th>\n",
              "      <th>Less Delivery time</th>\n",
              "      <th>High Quality of package</th>\n",
              "      <th>Number of calls</th>\n",
              "      <th>Politeness</th>\n",
              "      <th>Freshness</th>\n",
              "      <th>Temperature</th>\n",
              "      <th>Good Taste</th>\n",
              "      <th>Good Quantity</th>\n",
              "      <th>Output</th>\n",
              "      <th>Reviews</th>\n",
              "    </tr>\n",
              "  </thead>\n",
              "  <tbody>\n",
              "    <tr>\n",
              "      <th>0</th>\n",
              "      <td>20</td>\n",
              "      <td>Female</td>\n",
              "      <td>Single</td>\n",
              "      <td>Student</td>\n",
              "      <td>No Income</td>\n",
              "      <td>Post Graduate</td>\n",
              "      <td>4</td>\n",
              "      <td>12.9766</td>\n",
              "      <td>77.5993</td>\n",
              "      <td>560001</td>\n",
              "      <td>Food delivery apps</td>\n",
              "      <td>Web browser</td>\n",
              "      <td>Breakfast</td>\n",
              "      <td>Lunch</td>\n",
              "      <td>Non Veg foods (Lunch / Dinner)</td>\n",
              "      <td>Bakery items (snacks)</td>\n",
              "      <td>Neutral</td>\n",
              "      <td>Neutral</td>\n",
              "      <td>Neutral</td>\n",
              "      <td>Neutral</td>\n",
              "      <td>Neutral</td>\n",
              "      <td>Neutral</td>\n",
              "      <td>Neutral</td>\n",
              "      <td>Neutral</td>\n",
              "      <td>Neutral</td>\n",
              "      <td>Neutral</td>\n",
              "      <td>Neutral</td>\n",
              "      <td>Neutral</td>\n",
              "      <td>Neutral</td>\n",
              "      <td>Neutral</td>\n",
              "      <td>Agree</td>\n",
              "      <td>Agree</td>\n",
              "      <td>Agree</td>\n",
              "      <td>Agree</td>\n",
              "      <td>Agree</td>\n",
              "      <td>Agree</td>\n",
              "      <td>Yes</td>\n",
              "      <td>Weekend (Sat &amp; Sun)</td>\n",
              "      <td>30 minutes</td>\n",
              "      <td>Agree</td>\n",
              "      <td>Neutral</td>\n",
              "      <td>Neutral</td>\n",
              "      <td>Neutral</td>\n",
              "      <td>Neutral</td>\n",
              "      <td>Yes</td>\n",
              "      <td>Moderately Important</td>\n",
              "      <td>Moderately Important</td>\n",
              "      <td>Moderately Important</td>\n",
              "      <td>Moderately Important</td>\n",
              "      <td>Moderately Important</td>\n",
              "      <td>Moderately Important</td>\n",
              "      <td>Moderately Important</td>\n",
              "      <td>Moderately Important</td>\n",
              "      <td>Yes</td>\n",
              "      <td>Nil\\n</td>\n",
              "    </tr>\n",
              "    <tr>\n",
              "      <th>1</th>\n",
              "      <td>24</td>\n",
              "      <td>Female</td>\n",
              "      <td>Single</td>\n",
              "      <td>Student</td>\n",
              "      <td>Below Rs.10000</td>\n",
              "      <td>Graduate</td>\n",
              "      <td>3</td>\n",
              "      <td>12.9770</td>\n",
              "      <td>77.5773</td>\n",
              "      <td>560009</td>\n",
              "      <td>Food delivery apps</td>\n",
              "      <td>Web browser</td>\n",
              "      <td>Snacks</td>\n",
              "      <td>Dinner</td>\n",
              "      <td>Non Veg foods (Lunch / Dinner)</td>\n",
              "      <td>Veg foods (Breakfast / Lunch / Dinner)</td>\n",
              "      <td>Strongly agree</td>\n",
              "      <td>Strongly agree</td>\n",
              "      <td>Strongly agree</td>\n",
              "      <td>Strongly agree</td>\n",
              "      <td>Strongly agree</td>\n",
              "      <td>Neutral</td>\n",
              "      <td>Agree</td>\n",
              "      <td>Strongly agree</td>\n",
              "      <td>Strongly agree</td>\n",
              "      <td>Agree</td>\n",
              "      <td>Strongly agree</td>\n",
              "      <td>Strongly agree</td>\n",
              "      <td>Strongly agree</td>\n",
              "      <td>Strongly agree</td>\n",
              "      <td>Strongly agree</td>\n",
              "      <td>Strongly agree</td>\n",
              "      <td>Strongly agree</td>\n",
              "      <td>Strongly agree</td>\n",
              "      <td>Strongly agree</td>\n",
              "      <td>Strongly agree</td>\n",
              "      <td>Yes</td>\n",
              "      <td>Anytime (Mon-Sun)</td>\n",
              "      <td>30 minutes</td>\n",
              "      <td>Strongly Agree</td>\n",
              "      <td>Neutral</td>\n",
              "      <td>Disagree</td>\n",
              "      <td>Strongly disagree</td>\n",
              "      <td>Agree</td>\n",
              "      <td>Yes</td>\n",
              "      <td>Very Important</td>\n",
              "      <td>Very Important</td>\n",
              "      <td>Very Important</td>\n",
              "      <td>Very Important</td>\n",
              "      <td>Very Important</td>\n",
              "      <td>Very Important</td>\n",
              "      <td>Very Important</td>\n",
              "      <td>Very Important</td>\n",
              "      <td>Yes</td>\n",
              "      <td>Nil</td>\n",
              "    </tr>\n",
              "    <tr>\n",
              "      <th>2</th>\n",
              "      <td>22</td>\n",
              "      <td>Male</td>\n",
              "      <td>Single</td>\n",
              "      <td>Student</td>\n",
              "      <td>Below Rs.10000</td>\n",
              "      <td>Post Graduate</td>\n",
              "      <td>3</td>\n",
              "      <td>12.9551</td>\n",
              "      <td>77.6593</td>\n",
              "      <td>560017</td>\n",
              "      <td>Food delivery apps</td>\n",
              "      <td>Direct call</td>\n",
              "      <td>Lunch</td>\n",
              "      <td>Snacks</td>\n",
              "      <td>Non Veg foods (Lunch / Dinner)</td>\n",
              "      <td>Ice cream / Cool drinks</td>\n",
              "      <td>Strongly agree</td>\n",
              "      <td>Strongly agree</td>\n",
              "      <td>Strongly agree</td>\n",
              "      <td>Neutral</td>\n",
              "      <td>Neutral</td>\n",
              "      <td>Disagree</td>\n",
              "      <td>Neutral</td>\n",
              "      <td>Disagree</td>\n",
              "      <td>Neutral</td>\n",
              "      <td>Neutral</td>\n",
              "      <td>Agree</td>\n",
              "      <td>Agree</td>\n",
              "      <td>Agree</td>\n",
              "      <td>Agree</td>\n",
              "      <td>Agree</td>\n",
              "      <td>Agree</td>\n",
              "      <td>Agree</td>\n",
              "      <td>Strongly agree</td>\n",
              "      <td>Agree</td>\n",
              "      <td>Neutral</td>\n",
              "      <td>Yes</td>\n",
              "      <td>Anytime (Mon-Sun)</td>\n",
              "      <td>45 minutes</td>\n",
              "      <td>Agree</td>\n",
              "      <td>Strongly Agree</td>\n",
              "      <td>Neutral</td>\n",
              "      <td>Neutral</td>\n",
              "      <td>Agree</td>\n",
              "      <td>Yes</td>\n",
              "      <td>Important</td>\n",
              "      <td>Very Important</td>\n",
              "      <td>Moderately Important</td>\n",
              "      <td>Very Important</td>\n",
              "      <td>Very Important</td>\n",
              "      <td>Important</td>\n",
              "      <td>Very Important</td>\n",
              "      <td>Moderately Important</td>\n",
              "      <td>Yes</td>\n",
              "      <td>Many a times payment gateways are an issue, so...</td>\n",
              "    </tr>\n",
              "    <tr>\n",
              "      <th>3</th>\n",
              "      <td>22</td>\n",
              "      <td>Female</td>\n",
              "      <td>Single</td>\n",
              "      <td>Student</td>\n",
              "      <td>No Income</td>\n",
              "      <td>Graduate</td>\n",
              "      <td>6</td>\n",
              "      <td>12.9473</td>\n",
              "      <td>77.5616</td>\n",
              "      <td>560019</td>\n",
              "      <td>Food delivery apps</td>\n",
              "      <td>Walk-in</td>\n",
              "      <td>Snacks</td>\n",
              "      <td>Dinner</td>\n",
              "      <td>Veg foods (Breakfast / Lunch / Dinner)</td>\n",
              "      <td>Bakery items (snacks)</td>\n",
              "      <td>Agree</td>\n",
              "      <td>Agree</td>\n",
              "      <td>Strongly agree</td>\n",
              "      <td>Agree</td>\n",
              "      <td>Strongly agree</td>\n",
              "      <td>Agree</td>\n",
              "      <td>Agree</td>\n",
              "      <td>Agree</td>\n",
              "      <td>Strongly agree</td>\n",
              "      <td>Neutral</td>\n",
              "      <td>Agree</td>\n",
              "      <td>Disagree</td>\n",
              "      <td>Disagree</td>\n",
              "      <td>Neutral</td>\n",
              "      <td>Agree</td>\n",
              "      <td>Agree</td>\n",
              "      <td>Agree</td>\n",
              "      <td>Disagree</td>\n",
              "      <td>Disagree</td>\n",
              "      <td>Neutral</td>\n",
              "      <td>Yes</td>\n",
              "      <td>Anytime (Mon-Sun)</td>\n",
              "      <td>30 minutes</td>\n",
              "      <td>Disagree</td>\n",
              "      <td>Agree</td>\n",
              "      <td>Agree</td>\n",
              "      <td>Neutral</td>\n",
              "      <td>Agree</td>\n",
              "      <td>Yes</td>\n",
              "      <td>Very Important</td>\n",
              "      <td>Important</td>\n",
              "      <td>Moderately Important</td>\n",
              "      <td>Very Important</td>\n",
              "      <td>Very Important</td>\n",
              "      <td>Very Important</td>\n",
              "      <td>Very Important</td>\n",
              "      <td>Important</td>\n",
              "      <td>Yes</td>\n",
              "      <td>nil</td>\n",
              "    </tr>\n",
              "    <tr>\n",
              "      <th>4</th>\n",
              "      <td>22</td>\n",
              "      <td>Male</td>\n",
              "      <td>Single</td>\n",
              "      <td>Student</td>\n",
              "      <td>Below Rs.10000</td>\n",
              "      <td>Post Graduate</td>\n",
              "      <td>4</td>\n",
              "      <td>12.9850</td>\n",
              "      <td>77.5533</td>\n",
              "      <td>560010</td>\n",
              "      <td>Walk-in</td>\n",
              "      <td>Direct call</td>\n",
              "      <td>Lunch</td>\n",
              "      <td>Dinner</td>\n",
              "      <td>Non Veg foods (Lunch / Dinner)</td>\n",
              "      <td>Veg foods (Breakfast / Lunch / Dinner)</td>\n",
              "      <td>Agree</td>\n",
              "      <td>Agree</td>\n",
              "      <td>Agree</td>\n",
              "      <td>Agree</td>\n",
              "      <td>Agree</td>\n",
              "      <td>Neutral</td>\n",
              "      <td>Neutral</td>\n",
              "      <td>Agree</td>\n",
              "      <td>Strongly agree</td>\n",
              "      <td>Strongly agree</td>\n",
              "      <td>Agree</td>\n",
              "      <td>Strongly agree</td>\n",
              "      <td>Agree</td>\n",
              "      <td>Disagree</td>\n",
              "      <td>Strongly agree</td>\n",
              "      <td>Strongly agree</td>\n",
              "      <td>Neutral</td>\n",
              "      <td>Neutral</td>\n",
              "      <td>Neutral</td>\n",
              "      <td>Disagree</td>\n",
              "      <td>Yes</td>\n",
              "      <td>Weekend (Sat &amp; Sun)</td>\n",
              "      <td>30 minutes</td>\n",
              "      <td>Agree</td>\n",
              "      <td>Agree</td>\n",
              "      <td>Agree</td>\n",
              "      <td>Agree</td>\n",
              "      <td>Agree</td>\n",
              "      <td>Yes</td>\n",
              "      <td>Important</td>\n",
              "      <td>Important</td>\n",
              "      <td>Moderately Important</td>\n",
              "      <td>Important</td>\n",
              "      <td>Important</td>\n",
              "      <td>Important</td>\n",
              "      <td>Very Important</td>\n",
              "      <td>Very Important</td>\n",
              "      <td>Yes</td>\n",
              "      <td>NIL</td>\n",
              "    </tr>\n",
              "  </tbody>\n",
              "</table>\n",
              "</div>"
            ],
            "text/plain": [
              "   Age  Gender Marital Status Occupation  Monthly Income  \\\n",
              "0   20  Female         Single    Student       No Income   \n",
              "1   24  Female         Single    Student  Below Rs.10000   \n",
              "2   22    Male         Single    Student  Below Rs.10000   \n",
              "3   22  Female         Single    Student       No Income   \n",
              "4   22    Male         Single    Student  Below Rs.10000   \n",
              "\n",
              "  Educational Qualifications  Family size  latitude  longitude  Pin code  \\\n",
              "0              Post Graduate            4   12.9766    77.5993    560001   \n",
              "1                   Graduate            3   12.9770    77.5773    560009   \n",
              "2              Post Graduate            3   12.9551    77.6593    560017   \n",
              "3                   Graduate            6   12.9473    77.5616    560019   \n",
              "4              Post Graduate            4   12.9850    77.5533    560010   \n",
              "\n",
              "          Medium (P1)   Medium (P2)   Meal(P1) Meal(P2)  \\\n",
              "0  Food delivery apps   Web browser  Breakfast    Lunch   \n",
              "1  Food delivery apps   Web browser     Snacks   Dinner   \n",
              "2  Food delivery apps   Direct call      Lunch   Snacks   \n",
              "3  Food delivery apps       Walk-in     Snacks   Dinner   \n",
              "4             Walk-in   Direct call      Lunch   Dinner   \n",
              "\n",
              "                           Perference(P1)  \\\n",
              "0          Non Veg foods (Lunch / Dinner)   \n",
              "1          Non Veg foods (Lunch / Dinner)   \n",
              "2          Non Veg foods (Lunch / Dinner)   \n",
              "3  Veg foods (Breakfast / Lunch / Dinner)   \n",
              "4          Non Veg foods (Lunch / Dinner)   \n",
              "\n",
              "                            Perference(P2) Ease and convenient  \\\n",
              "0                    Bakery items (snacks)             Neutral   \n",
              "1   Veg foods (Breakfast / Lunch / Dinner)      Strongly agree   \n",
              "2                  Ice cream / Cool drinks      Strongly agree   \n",
              "3                    Bakery items (snacks)               Agree   \n",
              "4   Veg foods (Breakfast / Lunch / Dinner)               Agree   \n",
              "\n",
              "      Time saving More restaurant choices Easy Payment option  \\\n",
              "0         Neutral                 Neutral             Neutral   \n",
              "1  Strongly agree          Strongly agree      Strongly agree   \n",
              "2  Strongly agree          Strongly agree             Neutral   \n",
              "3           Agree          Strongly agree               Agree   \n",
              "4           Agree                   Agree               Agree   \n",
              "\n",
              "  More Offers and Discount Good Food quality Good Tracking system  \\\n",
              "0                  Neutral           Neutral              Neutral   \n",
              "1           Strongly agree           Neutral                Agree   \n",
              "2                  Neutral          Disagree              Neutral   \n",
              "3           Strongly agree             Agree                Agree   \n",
              "4                    Agree           Neutral              Neutral   \n",
              "\n",
              "     Self Cooking  Health Concern   Late Delivery    Poor Hygiene  \\\n",
              "0         Neutral         Neutral         Neutral         Neutral   \n",
              "1  Strongly agree  Strongly agree           Agree  Strongly agree   \n",
              "2        Disagree         Neutral         Neutral           Agree   \n",
              "3           Agree  Strongly agree         Neutral           Agree   \n",
              "4           Agree  Strongly agree  Strongly agree           Agree   \n",
              "\n",
              "  Bad past experience  Unavailability    Unaffordable Long delivery time  \\\n",
              "0             Neutral         Neutral         Neutral              Agree   \n",
              "1      Strongly agree  Strongly agree  Strongly agree     Strongly agree   \n",
              "2               Agree           Agree           Agree              Agree   \n",
              "3            Disagree        Disagree         Neutral              Agree   \n",
              "4      Strongly agree           Agree        Disagree     Strongly agree   \n",
              "\n",
              "  Delay of delivery person getting assigned  \\\n",
              "0                                     Agree   \n",
              "1                            Strongly agree   \n",
              "2                                     Agree   \n",
              "3                                     Agree   \n",
              "4                            Strongly agree   \n",
              "\n",
              "  Delay of delivery person picking up food Wrong order delivered  \\\n",
              "0                                    Agree                 Agree   \n",
              "1                           Strongly agree        Strongly agree   \n",
              "2                                    Agree        Strongly agree   \n",
              "3                                    Agree              Disagree   \n",
              "4                                  Neutral               Neutral   \n",
              "\n",
              "     Missing item Order placed by mistake Influence of time  \\\n",
              "0           Agree                   Agree               Yes   \n",
              "1  Strongly agree          Strongly agree               Yes   \n",
              "2           Agree                 Neutral               Yes   \n",
              "3        Disagree                 Neutral               Yes   \n",
              "4         Neutral                Disagree               Yes   \n",
              "\n",
              "            Order Time Maximum wait time Residence in busy location  \\\n",
              "0  Weekend (Sat & Sun)        30 minutes                      Agree   \n",
              "1    Anytime (Mon-Sun)        30 minutes             Strongly Agree   \n",
              "2    Anytime (Mon-Sun)        45 minutes                      Agree   \n",
              "3    Anytime (Mon-Sun)        30 minutes                   Disagree   \n",
              "4  Weekend (Sat & Sun)        30 minutes                      Agree   \n",
              "\n",
              "  Google Maps Accuracy Good Road Condition Low quantity low time  \\\n",
              "0              Neutral             Neutral               Neutral   \n",
              "1              Neutral            Disagree     Strongly disagree   \n",
              "2       Strongly Agree             Neutral               Neutral   \n",
              "3                Agree               Agree               Neutral   \n",
              "4                Agree               Agree                 Agree   \n",
              "\n",
              "  Delivery person ability Influence of rating    Less Delivery time  \\\n",
              "0                 Neutral                 Yes  Moderately Important   \n",
              "1                   Agree                 Yes        Very Important   \n",
              "2                   Agree                 Yes             Important   \n",
              "3                   Agree                 Yes        Very Important   \n",
              "4                   Agree                 Yes             Important   \n",
              "\n",
              "  High Quality of package       Number of calls            Politeness  \\\n",
              "0    Moderately Important  Moderately Important  Moderately Important   \n",
              "1          Very Important        Very Important        Very Important   \n",
              "2          Very Important  Moderately Important        Very Important   \n",
              "3               Important  Moderately Important        Very Important   \n",
              "4               Important  Moderately Important             Important   \n",
              "\n",
              "             Freshness            Temperature           Good Taste   \\\n",
              "0  Moderately Important  Moderately Important  Moderately Important   \n",
              "1        Very Important        Very Important        Very Important   \n",
              "2        Very Important             Important        Very Important   \n",
              "3        Very Important        Very Important        Very Important   \n",
              "4             Important             Important        Very Important   \n",
              "\n",
              "          Good Quantity Output  \\\n",
              "0  Moderately Important    Yes   \n",
              "1        Very Important    Yes   \n",
              "2  Moderately Important    Yes   \n",
              "3             Important    Yes   \n",
              "4        Very Important    Yes   \n",
              "\n",
              "                                             Reviews  \n",
              "0                                              Nil\\n  \n",
              "1                                                Nil  \n",
              "2  Many a times payment gateways are an issue, so...  \n",
              "3                                                nil  \n",
              "4                                                NIL  "
            ]
          },
          "execution_count": 849,
          "metadata": {},
          "output_type": "execute_result"
        }
      ],
      "source": [
        "# Check the head of the dataset\n",
        "data.head()"
      ]
    },
    {
      "cell_type": "markdown",
      "metadata": {
        "_uuid": "97cd7a0c1ebdad167b71d99409ccfe9bbb0fd31f",
        "id": "rvwnUASIQat6"
      },
      "source": [
        "###  Data overview"
      ]
    },
    {
      "cell_type": "code",
      "execution_count": null,
      "metadata": {
        "id": "0hdhto7fQat7"
      },
      "outputs": [],
      "source": [
        "# Here we have given ‘display.max_columns’ as an argument to view the maximum columns from our dataframe.\n",
        "pd.set_option('display.max_columns', None)"
      ]
    },
    {
      "cell_type": "code",
      "execution_count": null,
      "metadata": {
        "_uuid": "73b846cde866034ab84bfd5e2e3bb35f638b5ec8",
        "id": "0AGwlp2FQat8",
        "outputId": "d305a931-2246-41d4-d27a-e3266aa2f61f"
      },
      "outputs": [
        {
          "data": {
            "text/plain": [
              "(388, 55)"
            ]
          },
          "execution_count": 851,
          "metadata": {},
          "output_type": "execute_result"
        }
      ],
      "source": [
        "#Check the shape of dataset\n",
        "data.shape"
      ]
    },
    {
      "cell_type": "code",
      "execution_count": null,
      "metadata": {
        "_uuid": "e1e2d0a71e1fa5d41dce0562b2d1aae8ed17e041",
        "id": "da6st9PoQat9",
        "outputId": "81c87ddf-87a9-4847-dd55-85e9d20ec962"
      },
      "outputs": [
        {
          "name": "stdout",
          "output_type": "stream",
          "text": [
            "<class 'pandas.core.frame.DataFrame'>\n",
            "RangeIndex: 388 entries, 0 to 387\n",
            "Data columns (total 55 columns):\n",
            " #   Column                                     Non-Null Count  Dtype  \n",
            "---  ------                                     --------------  -----  \n",
            " 0   Age                                        388 non-null    int64  \n",
            " 1   Gender                                     388 non-null    object \n",
            " 2   Marital Status                             388 non-null    object \n",
            " 3   Occupation                                 388 non-null    object \n",
            " 4   Monthly Income                             388 non-null    object \n",
            " 5   Educational Qualifications                 388 non-null    object \n",
            " 6   Family size                                388 non-null    int64  \n",
            " 7   latitude                                   388 non-null    float64\n",
            " 8   longitude                                  388 non-null    float64\n",
            " 9   Pin code                                   388 non-null    int64  \n",
            " 10  Medium (P1)                                388 non-null    object \n",
            " 11  Medium (P2)                                388 non-null    object \n",
            " 12  Meal(P1)                                   388 non-null    object \n",
            " 13  Meal(P2)                                   388 non-null    object \n",
            " 14  Perference(P1)                             388 non-null    object \n",
            " 15  Perference(P2)                             388 non-null    object \n",
            " 16  Ease and convenient                        388 non-null    object \n",
            " 17  Time saving                                388 non-null    object \n",
            " 18  More restaurant choices                    388 non-null    object \n",
            " 19  Easy Payment option                        388 non-null    object \n",
            " 20  More Offers and Discount                   388 non-null    object \n",
            " 21  Good Food quality                          388 non-null    object \n",
            " 22  Good Tracking system                       388 non-null    object \n",
            " 23  Self Cooking                               388 non-null    object \n",
            " 24  Health Concern                             388 non-null    object \n",
            " 25  Late Delivery                              388 non-null    object \n",
            " 26  Poor Hygiene                               388 non-null    object \n",
            " 27  Bad past experience                        388 non-null    object \n",
            " 28  Unavailability                             388 non-null    object \n",
            " 29  Unaffordable                               388 non-null    object \n",
            " 30  Long delivery time                         388 non-null    object \n",
            " 31  Delay of delivery person getting assigned  388 non-null    object \n",
            " 32  Delay of delivery person picking up food   388 non-null    object \n",
            " 33  Wrong order delivered                      388 non-null    object \n",
            " 34  Missing item                               388 non-null    object \n",
            " 35  Order placed by mistake                    388 non-null    object \n",
            " 36  Influence of time                          388 non-null    object \n",
            " 37  Order Time                                 388 non-null    object \n",
            " 38  Maximum wait time                          388 non-null    object \n",
            " 39  Residence in busy location                 388 non-null    object \n",
            " 40  Google Maps Accuracy                       388 non-null    object \n",
            " 41  Good Road Condition                        388 non-null    object \n",
            " 42  Low quantity low time                      388 non-null    object \n",
            " 43  Delivery person ability                    388 non-null    object \n",
            " 44  Influence of rating                        388 non-null    object \n",
            " 45  Less Delivery time                         388 non-null    object \n",
            " 46  High Quality of package                    388 non-null    object \n",
            " 47  Number of calls                            388 non-null    object \n",
            " 48  Politeness                                 388 non-null    object \n",
            " 49  Freshness                                  388 non-null    object \n",
            " 50  Temperature                                388 non-null    object \n",
            " 51  Good Taste                                 388 non-null    object \n",
            " 52  Good Quantity                              388 non-null    object \n",
            " 53  Output                                     388 non-null    object \n",
            " 54  Reviews                                    388 non-null    object \n",
            "dtypes: float64(2), int64(3), object(50)\n",
            "memory usage: 166.8+ KB\n"
          ]
        }
      ],
      "source": [
        "# Dataset information\n",
        "data.info()"
      ]
    },
    {
      "cell_type": "code",
      "execution_count": null,
      "metadata": {
        "_uuid": "68e9fc5700d7192a76f8f0393dc02b6996db0d43",
        "scrolled": false,
        "id": "UnJqnk8GQat-",
        "outputId": "79d761f7-ce86-47fb-b023-78a592def81c"
      },
      "outputs": [
        {
          "data": {
            "text/html": [
              "<div>\n",
              "<style scoped>\n",
              "    .dataframe tbody tr th:only-of-type {\n",
              "        vertical-align: middle;\n",
              "    }\n",
              "\n",
              "    .dataframe tbody tr th {\n",
              "        vertical-align: top;\n",
              "    }\n",
              "\n",
              "    .dataframe thead th {\n",
              "        text-align: right;\n",
              "    }\n",
              "</style>\n",
              "<table border=\"1\" class=\"dataframe\">\n",
              "  <thead>\n",
              "    <tr style=\"text-align: right;\">\n",
              "      <th></th>\n",
              "      <th>Age</th>\n",
              "      <th>Family size</th>\n",
              "      <th>latitude</th>\n",
              "      <th>longitude</th>\n",
              "      <th>Pin code</th>\n",
              "    </tr>\n",
              "  </thead>\n",
              "  <tbody>\n",
              "    <tr>\n",
              "      <th>count</th>\n",
              "      <td>388.000000</td>\n",
              "      <td>388.000000</td>\n",
              "      <td>388.000000</td>\n",
              "      <td>388.000000</td>\n",
              "      <td>388.000000</td>\n",
              "    </tr>\n",
              "    <tr>\n",
              "      <th>mean</th>\n",
              "      <td>24.628866</td>\n",
              "      <td>3.280928</td>\n",
              "      <td>12.972058</td>\n",
              "      <td>77.600160</td>\n",
              "      <td>560040.113402</td>\n",
              "    </tr>\n",
              "    <tr>\n",
              "      <th>std</th>\n",
              "      <td>2.975593</td>\n",
              "      <td>1.351025</td>\n",
              "      <td>0.044489</td>\n",
              "      <td>0.051354</td>\n",
              "      <td>31.399609</td>\n",
              "    </tr>\n",
              "    <tr>\n",
              "      <th>min</th>\n",
              "      <td>18.000000</td>\n",
              "      <td>1.000000</td>\n",
              "      <td>12.865200</td>\n",
              "      <td>77.484200</td>\n",
              "      <td>560001.000000</td>\n",
              "    </tr>\n",
              "    <tr>\n",
              "      <th>25%</th>\n",
              "      <td>23.000000</td>\n",
              "      <td>2.000000</td>\n",
              "      <td>12.936900</td>\n",
              "      <td>77.565275</td>\n",
              "      <td>560010.750000</td>\n",
              "    </tr>\n",
              "    <tr>\n",
              "      <th>50%</th>\n",
              "      <td>24.000000</td>\n",
              "      <td>3.000000</td>\n",
              "      <td>12.977000</td>\n",
              "      <td>77.592100</td>\n",
              "      <td>560033.500000</td>\n",
              "    </tr>\n",
              "    <tr>\n",
              "      <th>75%</th>\n",
              "      <td>26.000000</td>\n",
              "      <td>4.000000</td>\n",
              "      <td>12.997025</td>\n",
              "      <td>77.630900</td>\n",
              "      <td>560068.000000</td>\n",
              "    </tr>\n",
              "    <tr>\n",
              "      <th>max</th>\n",
              "      <td>33.000000</td>\n",
              "      <td>6.000000</td>\n",
              "      <td>13.102000</td>\n",
              "      <td>77.758200</td>\n",
              "      <td>560109.000000</td>\n",
              "    </tr>\n",
              "  </tbody>\n",
              "</table>\n",
              "</div>"
            ],
            "text/plain": [
              "              Age  Family size    latitude   longitude       Pin code\n",
              "count  388.000000   388.000000  388.000000  388.000000     388.000000\n",
              "mean    24.628866     3.280928   12.972058   77.600160  560040.113402\n",
              "std      2.975593     1.351025    0.044489    0.051354      31.399609\n",
              "min     18.000000     1.000000   12.865200   77.484200  560001.000000\n",
              "25%     23.000000     2.000000   12.936900   77.565275  560010.750000\n",
              "50%     24.000000     3.000000   12.977000   77.592100  560033.500000\n",
              "75%     26.000000     4.000000   12.997025   77.630900  560068.000000\n",
              "max     33.000000     6.000000   13.102000   77.758200  560109.000000"
            ]
          },
          "execution_count": 853,
          "metadata": {},
          "output_type": "execute_result"
        }
      ],
      "source": [
        "# Describe Dataset\n",
        "data.describe()"
      ]
    },
    {
      "cell_type": "markdown",
      "metadata": {
        "id": "HgyckfpGQat_"
      },
      "source": [
        "This way we can quickly see basic metrics like average, median, percentile for different features."
      ]
    },
    {
      "cell_type": "code",
      "execution_count": null,
      "metadata": {
        "scrolled": true,
        "id": "VRnGm9BYQat_",
        "outputId": "b89792b6-444d-445b-a4a9-c20a2ece83d8"
      },
      "outputs": [
        {
          "data": {
            "text/html": [
              "<div>\n",
              "<style scoped>\n",
              "    .dataframe tbody tr th:only-of-type {\n",
              "        vertical-align: middle;\n",
              "    }\n",
              "\n",
              "    .dataframe tbody tr th {\n",
              "        vertical-align: top;\n",
              "    }\n",
              "\n",
              "    .dataframe thead th {\n",
              "        text-align: right;\n",
              "    }\n",
              "</style>\n",
              "<table border=\"1\" class=\"dataframe\">\n",
              "  <thead>\n",
              "    <tr style=\"text-align: right;\">\n",
              "      <th></th>\n",
              "      <th>count</th>\n",
              "      <th>unique</th>\n",
              "      <th>top</th>\n",
              "      <th>freq</th>\n",
              "    </tr>\n",
              "  </thead>\n",
              "  <tbody>\n",
              "    <tr>\n",
              "      <th>Gender</th>\n",
              "      <td>388</td>\n",
              "      <td>2</td>\n",
              "      <td>Male</td>\n",
              "      <td>222</td>\n",
              "    </tr>\n",
              "    <tr>\n",
              "      <th>Marital Status</th>\n",
              "      <td>388</td>\n",
              "      <td>3</td>\n",
              "      <td>Single</td>\n",
              "      <td>268</td>\n",
              "    </tr>\n",
              "    <tr>\n",
              "      <th>Occupation</th>\n",
              "      <td>388</td>\n",
              "      <td>4</td>\n",
              "      <td>Student</td>\n",
              "      <td>207</td>\n",
              "    </tr>\n",
              "    <tr>\n",
              "      <th>Monthly Income</th>\n",
              "      <td>388</td>\n",
              "      <td>5</td>\n",
              "      <td>No Income</td>\n",
              "      <td>187</td>\n",
              "    </tr>\n",
              "    <tr>\n",
              "      <th>Educational Qualifications</th>\n",
              "      <td>388</td>\n",
              "      <td>5</td>\n",
              "      <td>Graduate</td>\n",
              "      <td>177</td>\n",
              "    </tr>\n",
              "    <tr>\n",
              "      <th>Medium (P1)</th>\n",
              "      <td>388</td>\n",
              "      <td>4</td>\n",
              "      <td>Food delivery apps</td>\n",
              "      <td>358</td>\n",
              "    </tr>\n",
              "    <tr>\n",
              "      <th>Medium (P2)</th>\n",
              "      <td>388</td>\n",
              "      <td>3</td>\n",
              "      <td>Direct call</td>\n",
              "      <td>208</td>\n",
              "    </tr>\n",
              "    <tr>\n",
              "      <th>Meal(P1)</th>\n",
              "      <td>388</td>\n",
              "      <td>4</td>\n",
              "      <td>Snacks</td>\n",
              "      <td>124</td>\n",
              "    </tr>\n",
              "    <tr>\n",
              "      <th>Meal(P2)</th>\n",
              "      <td>388</td>\n",
              "      <td>3</td>\n",
              "      <td>Dinner</td>\n",
              "      <td>312</td>\n",
              "    </tr>\n",
              "    <tr>\n",
              "      <th>Perference(P1)</th>\n",
              "      <td>388</td>\n",
              "      <td>4</td>\n",
              "      <td>Non Veg foods (Lunch / Dinner)</td>\n",
              "      <td>315</td>\n",
              "    </tr>\n",
              "    <tr>\n",
              "      <th>Perference(P2)</th>\n",
              "      <td>388</td>\n",
              "      <td>4</td>\n",
              "      <td>Veg foods (Breakfast / Lunch / Dinner)</td>\n",
              "      <td>294</td>\n",
              "    </tr>\n",
              "    <tr>\n",
              "      <th>Ease and convenient</th>\n",
              "      <td>388</td>\n",
              "      <td>5</td>\n",
              "      <td>Agree</td>\n",
              "      <td>235</td>\n",
              "    </tr>\n",
              "    <tr>\n",
              "      <th>Time saving</th>\n",
              "      <td>388</td>\n",
              "      <td>5</td>\n",
              "      <td>Agree</td>\n",
              "      <td>143</td>\n",
              "    </tr>\n",
              "    <tr>\n",
              "      <th>More restaurant choices</th>\n",
              "      <td>388</td>\n",
              "      <td>5</td>\n",
              "      <td>Agree</td>\n",
              "      <td>169</td>\n",
              "    </tr>\n",
              "    <tr>\n",
              "      <th>Easy Payment option</th>\n",
              "      <td>388</td>\n",
              "      <td>5</td>\n",
              "      <td>Agree</td>\n",
              "      <td>143</td>\n",
              "    </tr>\n",
              "    <tr>\n",
              "      <th>More Offers and Discount</th>\n",
              "      <td>388</td>\n",
              "      <td>5</td>\n",
              "      <td>Agree</td>\n",
              "      <td>132</td>\n",
              "    </tr>\n",
              "    <tr>\n",
              "      <th>Good Food quality</th>\n",
              "      <td>388</td>\n",
              "      <td>5</td>\n",
              "      <td>Agree</td>\n",
              "      <td>141</td>\n",
              "    </tr>\n",
              "    <tr>\n",
              "      <th>Good Tracking system</th>\n",
              "      <td>388</td>\n",
              "      <td>5</td>\n",
              "      <td>Agree</td>\n",
              "      <td>161</td>\n",
              "    </tr>\n",
              "    <tr>\n",
              "      <th>Self Cooking</th>\n",
              "      <td>388</td>\n",
              "      <td>5</td>\n",
              "      <td>Agree</td>\n",
              "      <td>166</td>\n",
              "    </tr>\n",
              "    <tr>\n",
              "      <th>Health Concern</th>\n",
              "      <td>388</td>\n",
              "      <td>5</td>\n",
              "      <td>Agree</td>\n",
              "      <td>121</td>\n",
              "    </tr>\n",
              "    <tr>\n",
              "      <th>Late Delivery</th>\n",
              "      <td>388</td>\n",
              "      <td>5</td>\n",
              "      <td>Agree</td>\n",
              "      <td>163</td>\n",
              "    </tr>\n",
              "    <tr>\n",
              "      <th>Poor Hygiene</th>\n",
              "      <td>388</td>\n",
              "      <td>5</td>\n",
              "      <td>Disagree</td>\n",
              "      <td>112</td>\n",
              "    </tr>\n",
              "    <tr>\n",
              "      <th>Bad past experience</th>\n",
              "      <td>388</td>\n",
              "      <td>5</td>\n",
              "      <td>Disagree</td>\n",
              "      <td>143</td>\n",
              "    </tr>\n",
              "    <tr>\n",
              "      <th>Unavailability</th>\n",
              "      <td>388</td>\n",
              "      <td>5</td>\n",
              "      <td>Disagree</td>\n",
              "      <td>126</td>\n",
              "    </tr>\n",
              "    <tr>\n",
              "      <th>Unaffordable</th>\n",
              "      <td>388</td>\n",
              "      <td>5</td>\n",
              "      <td>Disagree</td>\n",
              "      <td>153</td>\n",
              "    </tr>\n",
              "    <tr>\n",
              "      <th>Long delivery time</th>\n",
              "      <td>388</td>\n",
              "      <td>5</td>\n",
              "      <td>Agree</td>\n",
              "      <td>185</td>\n",
              "    </tr>\n",
              "    <tr>\n",
              "      <th>Delay of delivery person getting assigned</th>\n",
              "      <td>388</td>\n",
              "      <td>5</td>\n",
              "      <td>Agree</td>\n",
              "      <td>142</td>\n",
              "    </tr>\n",
              "    <tr>\n",
              "      <th>Delay of delivery person picking up food</th>\n",
              "      <td>388</td>\n",
              "      <td>5</td>\n",
              "      <td>Agree</td>\n",
              "      <td>189</td>\n",
              "    </tr>\n",
              "    <tr>\n",
              "      <th>Wrong order delivered</th>\n",
              "      <td>388</td>\n",
              "      <td>5</td>\n",
              "      <td>Disagree</td>\n",
              "      <td>129</td>\n",
              "    </tr>\n",
              "    <tr>\n",
              "      <th>Missing item</th>\n",
              "      <td>388</td>\n",
              "      <td>5</td>\n",
              "      <td>Disagree</td>\n",
              "      <td>138</td>\n",
              "    </tr>\n",
              "    <tr>\n",
              "      <th>Order placed by mistake</th>\n",
              "      <td>388</td>\n",
              "      <td>5</td>\n",
              "      <td>Disagree</td>\n",
              "      <td>126</td>\n",
              "    </tr>\n",
              "    <tr>\n",
              "      <th>Influence of time</th>\n",
              "      <td>388</td>\n",
              "      <td>3</td>\n",
              "      <td>Yes</td>\n",
              "      <td>301</td>\n",
              "    </tr>\n",
              "    <tr>\n",
              "      <th>Order Time</th>\n",
              "      <td>388</td>\n",
              "      <td>3</td>\n",
              "      <td>Anytime (Mon-Sun)</td>\n",
              "      <td>269</td>\n",
              "    </tr>\n",
              "    <tr>\n",
              "      <th>Maximum wait time</th>\n",
              "      <td>388</td>\n",
              "      <td>5</td>\n",
              "      <td>45 minutes</td>\n",
              "      <td>154</td>\n",
              "    </tr>\n",
              "    <tr>\n",
              "      <th>Residence in busy location</th>\n",
              "      <td>388</td>\n",
              "      <td>5</td>\n",
              "      <td>Agree</td>\n",
              "      <td>266</td>\n",
              "    </tr>\n",
              "    <tr>\n",
              "      <th>Google Maps Accuracy</th>\n",
              "      <td>388</td>\n",
              "      <td>5</td>\n",
              "      <td>Agree</td>\n",
              "      <td>137</td>\n",
              "    </tr>\n",
              "    <tr>\n",
              "      <th>Good Road Condition</th>\n",
              "      <td>388</td>\n",
              "      <td>5</td>\n",
              "      <td>Agree</td>\n",
              "      <td>177</td>\n",
              "    </tr>\n",
              "    <tr>\n",
              "      <th>Low quantity low time</th>\n",
              "      <td>388</td>\n",
              "      <td>5</td>\n",
              "      <td>Agree</td>\n",
              "      <td>169</td>\n",
              "    </tr>\n",
              "    <tr>\n",
              "      <th>Delivery person ability</th>\n",
              "      <td>388</td>\n",
              "      <td>5</td>\n",
              "      <td>Agree</td>\n",
              "      <td>163</td>\n",
              "    </tr>\n",
              "    <tr>\n",
              "      <th>Influence of rating</th>\n",
              "      <td>388</td>\n",
              "      <td>3</td>\n",
              "      <td>Yes</td>\n",
              "      <td>286</td>\n",
              "    </tr>\n",
              "    <tr>\n",
              "      <th>Less Delivery time</th>\n",
              "      <td>388</td>\n",
              "      <td>5</td>\n",
              "      <td>Important</td>\n",
              "      <td>248</td>\n",
              "    </tr>\n",
              "    <tr>\n",
              "      <th>High Quality of package</th>\n",
              "      <td>388</td>\n",
              "      <td>5</td>\n",
              "      <td>Important</td>\n",
              "      <td>152</td>\n",
              "    </tr>\n",
              "    <tr>\n",
              "      <th>Number of calls</th>\n",
              "      <td>388</td>\n",
              "      <td>5</td>\n",
              "      <td>Important</td>\n",
              "      <td>133</td>\n",
              "    </tr>\n",
              "    <tr>\n",
              "      <th>Politeness</th>\n",
              "      <td>388</td>\n",
              "      <td>5</td>\n",
              "      <td>Important</td>\n",
              "      <td>155</td>\n",
              "    </tr>\n",
              "    <tr>\n",
              "      <th>Freshness</th>\n",
              "      <td>388</td>\n",
              "      <td>5</td>\n",
              "      <td>Very Important</td>\n",
              "      <td>137</td>\n",
              "    </tr>\n",
              "    <tr>\n",
              "      <th>Temperature</th>\n",
              "      <td>388</td>\n",
              "      <td>5</td>\n",
              "      <td>Important</td>\n",
              "      <td>148</td>\n",
              "    </tr>\n",
              "    <tr>\n",
              "      <th>Good Taste</th>\n",
              "      <td>388</td>\n",
              "      <td>5</td>\n",
              "      <td>Very Important</td>\n",
              "      <td>178</td>\n",
              "    </tr>\n",
              "    <tr>\n",
              "      <th>Good Quantity</th>\n",
              "      <td>388</td>\n",
              "      <td>5</td>\n",
              "      <td>Very Important</td>\n",
              "      <td>174</td>\n",
              "    </tr>\n",
              "    <tr>\n",
              "      <th>Output</th>\n",
              "      <td>388</td>\n",
              "      <td>2</td>\n",
              "      <td>Yes</td>\n",
              "      <td>301</td>\n",
              "    </tr>\n",
              "    <tr>\n",
              "      <th>Reviews</th>\n",
              "      <td>388</td>\n",
              "      <td>181</td>\n",
              "      <td>NIL</td>\n",
              "      <td>78</td>\n",
              "    </tr>\n",
              "  </tbody>\n",
              "</table>\n",
              "</div>"
            ],
            "text/plain": [
              "                                          count unique  \\\n",
              "Gender                                      388      2   \n",
              "Marital Status                              388      3   \n",
              "Occupation                                  388      4   \n",
              "Monthly Income                              388      5   \n",
              "Educational Qualifications                  388      5   \n",
              "Medium (P1)                                 388      4   \n",
              "Medium (P2)                                 388      3   \n",
              "Meal(P1)                                    388      4   \n",
              "Meal(P2)                                    388      3   \n",
              "Perference(P1)                              388      4   \n",
              "Perference(P2)                              388      4   \n",
              "Ease and convenient                         388      5   \n",
              "Time saving                                 388      5   \n",
              "More restaurant choices                     388      5   \n",
              "Easy Payment option                         388      5   \n",
              "More Offers and Discount                    388      5   \n",
              "Good Food quality                           388      5   \n",
              "Good Tracking system                        388      5   \n",
              "Self Cooking                                388      5   \n",
              "Health Concern                              388      5   \n",
              "Late Delivery                               388      5   \n",
              "Poor Hygiene                                388      5   \n",
              "Bad past experience                         388      5   \n",
              "Unavailability                              388      5   \n",
              "Unaffordable                                388      5   \n",
              "Long delivery time                          388      5   \n",
              "Delay of delivery person getting assigned   388      5   \n",
              "Delay of delivery person picking up food    388      5   \n",
              "Wrong order delivered                       388      5   \n",
              "Missing item                                388      5   \n",
              "Order placed by mistake                     388      5   \n",
              "Influence of time                           388      3   \n",
              "Order Time                                  388      3   \n",
              "Maximum wait time                           388      5   \n",
              "Residence in busy location                  388      5   \n",
              "Google Maps Accuracy                        388      5   \n",
              "Good Road Condition                         388      5   \n",
              "Low quantity low time                       388      5   \n",
              "Delivery person ability                     388      5   \n",
              "Influence of rating                         388      3   \n",
              "Less Delivery time                          388      5   \n",
              "High Quality of package                     388      5   \n",
              "Number of calls                             388      5   \n",
              "Politeness                                  388      5   \n",
              "Freshness                                   388      5   \n",
              "Temperature                                 388      5   \n",
              "Good Taste                                  388      5   \n",
              "Good Quantity                               388      5   \n",
              "Output                                      388      2   \n",
              "Reviews                                     388    181   \n",
              "\n",
              "                                                                               top  \\\n",
              "Gender                                                                        Male   \n",
              "Marital Status                                                              Single   \n",
              "Occupation                                                                 Student   \n",
              "Monthly Income                                                           No Income   \n",
              "Educational Qualifications                                                Graduate   \n",
              "Medium (P1)                                                     Food delivery apps   \n",
              "Medium (P2)                                                            Direct call   \n",
              "Meal(P1)                                                                    Snacks   \n",
              "Meal(P2)                                                                    Dinner   \n",
              "Perference(P1)                                      Non Veg foods (Lunch / Dinner)   \n",
              "Perference(P2)                              Veg foods (Breakfast / Lunch / Dinner)   \n",
              "Ease and convenient                                                          Agree   \n",
              "Time saving                                                                  Agree   \n",
              "More restaurant choices                                                      Agree   \n",
              "Easy Payment option                                                          Agree   \n",
              "More Offers and Discount                                                     Agree   \n",
              "Good Food quality                                                            Agree   \n",
              "Good Tracking system                                                         Agree   \n",
              "Self Cooking                                                                 Agree   \n",
              "Health Concern                                                               Agree   \n",
              "Late Delivery                                                                Agree   \n",
              "Poor Hygiene                                                              Disagree   \n",
              "Bad past experience                                                       Disagree   \n",
              "Unavailability                                                            Disagree   \n",
              "Unaffordable                                                              Disagree   \n",
              "Long delivery time                                                           Agree   \n",
              "Delay of delivery person getting assigned                                    Agree   \n",
              "Delay of delivery person picking up food                                     Agree   \n",
              "Wrong order delivered                                                     Disagree   \n",
              "Missing item                                                              Disagree   \n",
              "Order placed by mistake                                                   Disagree   \n",
              "Influence of time                                                              Yes   \n",
              "Order Time                                                       Anytime (Mon-Sun)   \n",
              "Maximum wait time                                                       45 minutes   \n",
              "Residence in busy location                                                   Agree   \n",
              "Google Maps Accuracy                                                         Agree   \n",
              "Good Road Condition                                                          Agree   \n",
              "Low quantity low time                                                        Agree   \n",
              "Delivery person ability                                                      Agree   \n",
              "Influence of rating                                                            Yes   \n",
              "Less Delivery time                                                       Important   \n",
              "High Quality of package                                                  Important   \n",
              "Number of calls                                                          Important   \n",
              "Politeness                                                               Important   \n",
              "Freshness                                                           Very Important   \n",
              "Temperature                                                              Important   \n",
              "Good Taste                                                          Very Important   \n",
              "Good Quantity                                                       Very Important   \n",
              "Output                                                                         Yes   \n",
              "Reviews                                                                        NIL   \n",
              "\n",
              "                                          freq  \n",
              "Gender                                     222  \n",
              "Marital Status                             268  \n",
              "Occupation                                 207  \n",
              "Monthly Income                             187  \n",
              "Educational Qualifications                 177  \n",
              "Medium (P1)                                358  \n",
              "Medium (P2)                                208  \n",
              "Meal(P1)                                   124  \n",
              "Meal(P2)                                   312  \n",
              "Perference(P1)                             315  \n",
              "Perference(P2)                             294  \n",
              "Ease and convenient                        235  \n",
              "Time saving                                143  \n",
              "More restaurant choices                    169  \n",
              "Easy Payment option                        143  \n",
              "More Offers and Discount                   132  \n",
              "Good Food quality                          141  \n",
              "Good Tracking system                       161  \n",
              "Self Cooking                               166  \n",
              "Health Concern                             121  \n",
              "Late Delivery                              163  \n",
              "Poor Hygiene                               112  \n",
              "Bad past experience                        143  \n",
              "Unavailability                             126  \n",
              "Unaffordable                               153  \n",
              "Long delivery time                         185  \n",
              "Delay of delivery person getting assigned  142  \n",
              "Delay of delivery person picking up food   189  \n",
              "Wrong order delivered                      129  \n",
              "Missing item                               138  \n",
              "Order placed by mistake                    126  \n",
              "Influence of time                          301  \n",
              "Order Time                                 269  \n",
              "Maximum wait time                          154  \n",
              "Residence in busy location                 266  \n",
              "Google Maps Accuracy                       137  \n",
              "Good Road Condition                        177  \n",
              "Low quantity low time                      169  \n",
              "Delivery person ability                    163  \n",
              "Influence of rating                        286  \n",
              "Less Delivery time                         248  \n",
              "High Quality of package                    152  \n",
              "Number of calls                            133  \n",
              "Politeness                                 155  \n",
              "Freshness                                  137  \n",
              "Temperature                                148  \n",
              "Good Taste                                 178  \n",
              "Good Quantity                              174  \n",
              "Output                                     301  \n",
              "Reviews                                     78  "
            ]
          },
          "execution_count": 854,
          "metadata": {},
          "output_type": "execute_result"
        }
      ],
      "source": [
        "# describe categorical values columns\n",
        "data.describe(include = 'object').transpose()"
      ]
    },
    {
      "cell_type": "markdown",
      "metadata": {
        "_uuid": "0ca4cbb107bdc125987f0b734a1b8834b6d8c0a8",
        "id": "g16ybcb3QauA"
      },
      "source": [
        "### Data Cleaning"
      ]
    },
    {
      "cell_type": "markdown",
      "metadata": {
        "id": "zSNeRRhUQauA"
      },
      "source": [
        "Data cleaning is one of the important parts of machine learning. It plays a significant part in building a model. It surely isn’t the fanciest part of machine learning and at the same time, there aren’t any hidden tricks or secrets to uncover.\n",
        "\n",
        "If we have a well-cleaned dataset, there are chances that we can get achieve good results with simple algorithms also, which can prove very beneficial at times especially in terms of computation when the dataset size is large. "
      ]
    },
    {
      "cell_type": "code",
      "execution_count": null,
      "metadata": {
        "_uuid": "3c78f79ff808df88d1ced4e944158375e2836f45",
        "scrolled": false,
        "id": "souFxZfYQauC",
        "outputId": "39ff8a76-95ad-4f10-8812-96069211e0b7"
      },
      "outputs": [
        {
          "data": {
            "text/plain": [
              "Age                                          0\n",
              "Gender                                       0\n",
              "Marital Status                               0\n",
              "Occupation                                   0\n",
              "Monthly Income                               0\n",
              "Educational Qualifications                   0\n",
              "Family size                                  0\n",
              "latitude                                     0\n",
              "longitude                                    0\n",
              "Pin code                                     0\n",
              "Medium (P1)                                  0\n",
              "Medium (P2)                                  0\n",
              "Meal(P1)                                     0\n",
              "Meal(P2)                                     0\n",
              "Perference(P1)                               0\n",
              "Perference(P2)                               0\n",
              "Ease and convenient                          0\n",
              "Time saving                                  0\n",
              "More restaurant choices                      0\n",
              "Easy Payment option                          0\n",
              "More Offers and Discount                     0\n",
              "Good Food quality                            0\n",
              "Good Tracking system                         0\n",
              "Self Cooking                                 0\n",
              "Health Concern                               0\n",
              "Late Delivery                                0\n",
              "Poor Hygiene                                 0\n",
              "Bad past experience                          0\n",
              "Unavailability                               0\n",
              "Unaffordable                                 0\n",
              "Long delivery time                           0\n",
              "Delay of delivery person getting assigned    0\n",
              "Delay of delivery person picking up food     0\n",
              "Wrong order delivered                        0\n",
              "Missing item                                 0\n",
              "Order placed by mistake                      0\n",
              "Influence of time                            0\n",
              "Order Time                                   0\n",
              "Maximum wait time                            0\n",
              "Residence in busy location                   0\n",
              "Google Maps Accuracy                         0\n",
              "Good Road Condition                          0\n",
              "Low quantity low time                        0\n",
              "Delivery person ability                      0\n",
              "Influence of rating                          0\n",
              "Less Delivery time                           0\n",
              "High Quality of package                      0\n",
              "Number of calls                              0\n",
              "Politeness                                   0\n",
              "Freshness                                    0\n",
              "Temperature                                  0\n",
              "Good Taste                                   0\n",
              "Good Quantity                                0\n",
              "Output                                       0\n",
              "Reviews                                      0\n",
              "dtype: int64"
            ]
          },
          "execution_count": 855,
          "metadata": {},
          "output_type": "execute_result"
        }
      ],
      "source": [
        "#Look for missing values / Null values\n",
        "\n",
        "data.isnull().sum()"
      ]
    },
    {
      "cell_type": "code",
      "execution_count": null,
      "metadata": {
        "id": "ne_QuzhOQauC",
        "outputId": "9bbd2a0a-e3c7-4175-d9e8-e433eaf51962"
      },
      "outputs": [
        {
          "data": {
            "text/plain": [
              "102"
            ]
          },
          "execution_count": 856,
          "metadata": {},
          "output_type": "execute_result"
        }
      ],
      "source": [
        "# Checking for duplicate\n",
        "data.duplicated().sum()"
      ]
    },
    {
      "cell_type": "code",
      "execution_count": null,
      "metadata": {
        "id": "IEinC6BmQauD"
      },
      "outputs": [],
      "source": [
        "# dropping duplicate values\n",
        "data.drop_duplicates(keep=False,inplace=True)"
      ]
    },
    {
      "cell_type": "code",
      "execution_count": null,
      "metadata": {
        "id": "CEi5DTsSQauD"
      },
      "outputs": [],
      "source": [
        "# Reviews  columns have maximum NIL values and It will not add any value to prediction \n",
        "data.drop(labels=['Reviews'],axis=1,inplace=True) "
      ]
    },
    {
      "cell_type": "markdown",
      "metadata": {
        "id": "OutBTkYRQauE"
      },
      "source": [
        "Observations:\n",
        "\n",
        "1. Data size is (388, 55).\n",
        "\n",
        "2. None of the columns has Null values.\n",
        "\n",
        "3. There is 102 duplicated value in this dataset .\n",
        "\n",
        "4. Age, Family, size, latitude,\tlongitude and Pin code has numerical values .\n",
        "\n",
        "5. Maximum columns has categorical values.\n"
      ]
    },
    {
      "cell_type": "markdown",
      "metadata": {
        "_uuid": "3f5e53ed935216b121bd7266a515654cf9b82b7e",
        "id": "amEztJ2kQauE"
      },
      "source": [
        "### Exploratory Data Analytics\n"
      ]
    },
    {
      "cell_type": "markdown",
      "metadata": {
        "_uuid": "cf330625f5e0fc1c93f752a8ba90bb2079c450b8",
        "id": "y2MxcIUSQauE"
      },
      "source": [
        "#### Visualising Numeric Variables\n",
        "\n",
        "Let's make a dist plot of all the numeric variables"
      ]
    },
    {
      "cell_type": "code",
      "execution_count": null,
      "metadata": {
        "scrolled": false,
        "id": "3NV1KkjfQauF",
        "outputId": "3e6ad77a-77d3-43f1-db96-a70c56c8f819"
      },
      "outputs": [
        {
          "data": {
            "image/png": "[encoded data removed]",
            "text/plain": [
              "<Figure size 432x288 with 1 Axes>"
            ]
          },
          "metadata": {
            "needs_background": "light"
          },
          "output_type": "display_data"
        },
        {
          "data": {
            "image/png": "[encoded data removed]",
            "text/plain": [
              "<Figure size 432x288 with 1 Axes>"
            ]
          },
          "metadata": {
            "needs_background": "light"
          },
          "output_type": "display_data"
        },
        {
          "data": {
            "image/png": "[encoded data removed]",
            "text/plain": [
              "<Figure size 432x288 with 1 Axes>"
            ]
          },
          "metadata": {
            "needs_background": "light"
          },
          "output_type": "display_data"
        },
        {
          "data": {
            "image/png": "[encoded data removed]",
            "text/plain": [
              "<Figure size 432x288 with 1 Axes>"
            ]
          },
          "metadata": {
            "needs_background": "light"
          },
          "output_type": "display_data"
        },
        {
          "data": {
            "image/png": "[encoded data removed]",
            "text/plain": [
              "<Figure size 432x288 with 1 Axes>"
            ]
          },
          "metadata": {
            "needs_background": "light"
          },
          "output_type": "display_data"
        }
      ],
      "source": [
        "df_numerics_only = data.select_dtypes(include=np.number)\n",
        "for column in df_numerics_only.columns:\n",
        "    \n",
        "    sns.distplot(data[column],color=\"red\") # Stack these distributions together with different colors \n",
        "    plt.show()\n"
      ]
    },
    {
      "cell_type": "markdown",
      "metadata": {
        "id": "8isNzr1GQauF"
      },
      "source": [
        "Observations:\n",
        "\n",
        "The Distplot of Age ,latitude  and longitude column are approximately normally distributed. And if we see other columns like Family size and pincode these are not normally distributed."
      ]
    },
    {
      "cell_type": "markdown",
      "metadata": {
        "_uuid": "82de6addf2af16bd82d64432d0a6017042bc7510",
        "id": "KGKrCYyJQauG"
      },
      "source": [
        "#### Visualising Categorical Variables\n"
      ]
    },
    {
      "cell_type": "markdown",
      "metadata": {
        "id": "EDuP2t9RQauG"
      },
      "source": [
        "#### Distribution of output"
      ]
    },
    {
      "cell_type": "code",
      "execution_count": null,
      "metadata": {
        "scrolled": true,
        "id": "PG_zs2tgQauG",
        "outputId": "c9b41bd9-acb9-4b1e-87b1-873325d5fb14"
      },
      "outputs": [
        {
          "data": {
            "image/png": "[encoded data removed]",
            "text/plain": [
              "<Figure size 720x432 with 1 Axes>"
            ]
          },
          "metadata": {},
          "output_type": "display_data"
        }
      ],
      "source": [
        "#Churn rate\n",
        "plt.figure(figsize=(10,6))\n",
        "labels=['Not Wants to Churn', 'Wants to Churn']\n",
        "explode=[.2,.2]\n",
        "mycolors = [\"hotpink\", \"Yellow\"]\n",
        "sizes=data.Output.value_counts().values\n",
        "plt.pie(sizes,explode,labels,autopct=\"%1.1f%%\",shadow = True,colors = mycolors)\n",
        "plt.show()"
      ]
    },
    {
      "cell_type": "markdown",
      "metadata": {
        "id": "LWWFGDwUQauH"
      },
      "source": [
        "From the above pip plot, we can say that approximately 77% of customers do not want to Churn and 23% of customers want to churn."
      ]
    },
    {
      "cell_type": "markdown",
      "metadata": {
        "id": "w14i-yftQauH"
      },
      "source": [
        "#### Observations on Age"
      ]
    },
    {
      "cell_type": "code",
      "execution_count": null,
      "metadata": {
        "id": "d5HOKs2cQauH",
        "outputId": "01d001b5-8e6c-423c-8748-2a895c6485d6"
      },
      "outputs": [
        {
          "data": {
            "text/plain": [
              "<AxesSubplot:xlabel='Age', ylabel='count'>"
            ]
          },
          "execution_count": 861,
          "metadata": {},
          "output_type": "execute_result"
        },
        {
          "data": {
            "image/png": "[encoded data removed]",
            "text/plain": [
              "<Figure size 720x432 with 1 Axes>"
            ]
          },
          "metadata": {
            "needs_background": "light"
          },
          "output_type": "display_data"
        }
      ],
      "source": [
        "plt.figure(figsize=(10,6))\n",
        "sns.countplot(x=\"Age\", data=data, hue='Output',palette='Accent_r')"
      ]
    },
    {
      "cell_type": "markdown",
      "metadata": {
        "id": "OP7mvJdqQauI"
      },
      "source": [
        "From the above count plot, We can tell That More than 30 customers who are 22 years old want to churn and those customers who are 33 years old don't want to churn."
      ]
    },
    {
      "cell_type": "markdown",
      "metadata": {
        "id": "BR2TWPEZQauI"
      },
      "source": [
        "#### Observations on Gender, Marital Status, Occupation, Educational Qualifications, Self Cooking and Monthly Income"
      ]
    },
    {
      "cell_type": "code",
      "execution_count": null,
      "metadata": {
        "scrolled": false,
        "id": "-DA0NYneQauI",
        "outputId": "6bddaf63-c22b-43c0-c33a-4e1515b05801"
      },
      "outputs": [
        {
          "data": {
            "image/png": "[encoded data removed]",
            "text/plain": [
              "<Figure size 1800x1080 with 6 Axes>"
            ]
          },
          "metadata": {
            "needs_background": "light"
          },
          "output_type": "display_data"
        }
      ],
      "source": [
        "plt.figure(figsize=(25, 15))\n",
        "plt.subplot(2,3,1)\n",
        "sns.countplot(x ='Gender', data = data, hue='Output', palette = \"Set1\")\n",
        "plt.subplot(2,3,2)\n",
        "sns.countplot(x ='Marital Status', data = data, hue='Output',palette='Set2')\n",
        "plt.subplot(2,3,3)\n",
        "sns.countplot(x ='Occupation', data = data, hue='Output',palette='nipy_spectral_r')\n",
        "plt.subplot(2,3,4)\n",
        "sns.countplot(x ='Educational Qualifications', hue='Output', data = data,palette='tab20c')\n",
        "plt.subplot(2,3,5)\n",
        "sns.countplot(x ='Self Cooking', data = data, hue='Output',palette='autumn_r')\n",
        "plt.subplot(2,3,6)\n",
        "sns.countplot(x ='Monthly Income', data = data, hue='Output',palette='RdYlGn_r')\n",
        "plt.show()"
      ]
    },
    {
      "cell_type": "markdown",
      "metadata": {
        "id": "UE6J5_EXQauI"
      },
      "source": [
        "Observations:\n",
        "1. Men want to churn more than women.\n",
        "2. Maximum customers who want to churn, who are still single and this number is more than 120.\n",
        "3. Most of all those customers want to churn who are students. And the lowest churn percentage is among employees.\n",
        "4. Post Graduates want to churn Maximum and after that graduates want to churn.\n",
        "5. Those customers who do not have income, they want to churn maximum. And those customers want to churn less, whose income is more than 50,000."
      ]
    },
    {
      "cell_type": "markdown",
      "metadata": {
        "id": "pj9G8TgJQauJ"
      },
      "source": [
        "#### Observations on Unavailability, Less Delivery time, Maximum wait time, Freshness and Monthly more"
      ]
    },
    {
      "cell_type": "code",
      "execution_count": null,
      "metadata": {
        "scrolled": false,
        "id": "djxFmzzKQauJ",
        "outputId": "24db0928-4f96-4e9d-9886-028416ebf9f5"
      },
      "outputs": [
        {
          "data": {
            "image/png": "[encoded data removed]",
            "text/plain": [
              "<Figure size 1800x1080 with 9 Axes>"
            ]
          },
          "metadata": {
            "needs_background": "light"
          },
          "output_type": "display_data"
        }
      ],
      "source": [
        "plt.figure(figsize=(25, 15))\n",
        "plt.subplot(3,3,1)\n",
        "sns.countplot(x ='Unavailability', data = data, hue='Output', palette = \"Set1\")\n",
        "plt.subplot(3,3,2)\n",
        "sns.countplot(x ='Less Delivery time', data = data, hue='Output',palette='Set2')\n",
        "plt.subplot(3,3,3)\n",
        "sns.countplot(x ='Maximum wait time', data = data, hue='Output',palette='nipy_spectral_r')\n",
        "plt.subplot(3,3,4)\n",
        "sns.countplot(x ='Freshness ', hue='Output', data = data,palette='tab20c')\n",
        "plt.subplot(3,3,5)\n",
        "sns.countplot(x ='Bad past experience', data = data, hue='Output',palette='autumn_r')\n",
        "plt.subplot(3,3,6)\n",
        "sns.countplot(x ='Residence in busy location', data = data, hue='Output',palette='RdYlGn_r')\n",
        "plt.subplot(3,3,7)\n",
        "sns.countplot(x ='Unaffordable', hue='Output', data = data,palette='tab20c')\n",
        "plt.subplot(3,3,8)\n",
        "sns.countplot(x ='Delay of delivery person picking up food', data = data, hue='Output',palette='autumn_r')\n",
        "plt.subplot(3,3,9)\n",
        "sns.countplot(x ='Good Taste ', data = data, hue='Output',palette='RdYlGn_r')\n",
        "plt.show()"
      ]
    },
    {
      "cell_type": "markdown",
      "metadata": {
        "id": "4Uuoz6JcQauJ"
      },
      "source": [
        "Observations:\n",
        "1. Those customers want to churn more For whom short delivery time is very important.\n",
        "2. Those customers who had to wait for maximum for the order want to churn more.\n",
        "3. Customers who had a bad past experience want to churn more.\n",
        "4. Customers for whom freshness is very important, want to churn more.\n",
        "5. Those customers who are not able to afford the service want to churn more.\n",
        "6. Customers that place a high value on good taste, want to churn more.\n",
        "7. Customers who have delayed food delivery, want to churn more."
      ]
    },
    {
      "cell_type": "markdown",
      "metadata": {
        "id": "Q8rciajSQauK"
      },
      "source": [
        "### Outlier Detection"
      ]
    },
    {
      "cell_type": "markdown",
      "metadata": {
        "id": "OhUKKvmiQauK"
      },
      "source": [
        "Outliers are the values that look different from the other values in the data. \n",
        "\n",
        "Box plots are a visual method to identify outliers. Box plots is one of the many ways to visualize data distribution. Box plot plots the q1 (25th percentile), q2 (50th percentile or median) and q3 (75th percentile) of the data along with (q1–1.5*(q3-q1)) and (q3+1.5*(q3-q1)). Outliers, if any, are plotted as points left and right the plot."
      ]
    },
    {
      "cell_type": "code",
      "execution_count": null,
      "metadata": {
        "scrolled": true,
        "id": "bztOuansQauK",
        "outputId": "2c710083-c063-42bd-a51c-a14e1732e702"
      },
      "outputs": [
        {
          "data": {
            "image/png": "[encoded data removed]",
            "text/plain": [
              "<Figure size 1080x864 with 4 Axes>"
            ]
          },
          "metadata": {
            "needs_background": "light"
          },
          "output_type": "display_data"
        }
      ],
      "source": [
        "# Outlier Analysis\n",
        "fig, axs = plt.subplots(2,2, figsize = (15,12))\n",
        "plt1 = sns.boxplot(data['Age'], ax = axs[0,0],palette='BuGn')\n",
        "plt2 = sns.boxplot(data['Family size'], ax = axs[0,1],palette='Purples_r')\n",
        "plt3 = sns.boxplot(data['latitude'], ax = axs[1,0],palette='RdYlGn')\n",
        "plt1 = sns.boxplot(data['longitude'], ax = axs[1,1],palette='BuPu')\n",
        "\n",
        "plt.show()"
      ]
    },
    {
      "cell_type": "markdown",
      "metadata": {
        "id": "cXVqwkDNQauK"
      },
      "source": [
        "Outlier Treatment :\n",
        "1. Age , latitude and longitude have considerable some outliers.\n",
        "2. We can drop the outliers as we have sufficient data."
      ]
    },
    {
      "cell_type": "code",
      "execution_count": null,
      "metadata": {
        "id": "qLD-Tm-fQauL"
      },
      "outputs": [],
      "source": [
        "# outlier treatment for Age\n",
        "Q1 = data.Age.quantile(0.25)\n",
        "Q3 = data.Age.quantile(0.75)\n",
        "IQR = Q3 - Q1\n",
        "data = data[(data.Age >= Q1 - 1.5*IQR) & (data.Age <= Q3 + 1.5*IQR)]"
      ]
    },
    {
      "cell_type": "code",
      "execution_count": null,
      "metadata": {
        "id": "gcm56KnkQauL"
      },
      "outputs": [],
      "source": [
        "# outlier treatment for latitude\n",
        "Q1 = data.latitude.quantile(0.25)\n",
        "Q3 = data.latitude.quantile(0.75)\n",
        "IQR = Q3 - Q1\n",
        "data = data[(data.latitude >= Q1 - 1.5*IQR) & (data.latitude <= Q3 + 1.5*IQR)]"
      ]
    },
    {
      "cell_type": "code",
      "execution_count": null,
      "metadata": {
        "id": "WuYwzsfAQauM"
      },
      "outputs": [],
      "source": [
        "# outlier treatment for longitude\n",
        "Q1 = data.longitude.quantile(0.25)\n",
        "Q3 = data.longitude.quantile(0.75)\n",
        "IQR = Q3 - Q1\n",
        "data = data[(data.longitude >= Q1 - 1.5*IQR) & (data.longitude <= Q3 + 1.5*IQR)]"
      ]
    },
    {
      "cell_type": "code",
      "execution_count": null,
      "metadata": {
        "id": "3j3BmAjaQauM",
        "outputId": "9ac9eba5-fa85-42b0-efca-27da29b59e30"
      },
      "outputs": [
        {
          "data": {
            "image/png": "[encoded data removed]",
            "text/plain": [
              "<Figure size 1080x864 with 3 Axes>"
            ]
          },
          "metadata": {
            "needs_background": "light"
          },
          "output_type": "display_data"
        }
      ],
      "source": [
        "# Outlier check after treatment\n",
        "fig, axs = plt.subplots(3,1, figsize = (15,12))\n",
        "plt1 = sns.boxplot(data['Age'], ax = axs[0],palette='BuGn')\n",
        "plt2 = sns.boxplot(data['latitude'], ax = axs[1],palette='RdYlGn')\n",
        "plt3 = sns.boxplot(data['longitude'], ax = axs[2],palette='BuPu')\n",
        "\n",
        "plt.show()"
      ]
    },
    {
      "cell_type": "markdown",
      "metadata": {
        "id": "gK1GvXzsQauM"
      },
      "source": [
        "Here we removed lot of outliers, It's look good."
      ]
    },
    {
      "cell_type": "markdown",
      "metadata": {
        "id": "p7OonNgBQauN"
      },
      "source": [
        "### Feature Selection Technique"
      ]
    },
    {
      "cell_type": "markdown",
      "metadata": {
        "id": "esZbw4QaQauN"
      },
      "source": [
        "### Pearson correlation for numerical variable"
      ]
    },
    {
      "cell_type": "markdown",
      "metadata": {
        "id": "mGDtB7r_QauN"
      },
      "source": [
        "Pearson correlation is used to measure how strong the relationship is between two variables.\n",
        "\n",
        "Features with high correlation are mostly Linearley dependent and hence have almost the same effect on the dependent variable. So when two features have a high correlation, we can drop one of the two features."
      ]
    },
    {
      "cell_type": "code",
      "execution_count": null,
      "metadata": {
        "id": "jmAqLES7QauN",
        "outputId": "7a3ea3ad-fb25-4412-8ae1-b8f69117bbc9"
      },
      "outputs": [
        {
          "data": {
            "image/png": "[encoded data removed]",
            "text/plain": [
              "<Figure size 864x720 with 2 Axes>"
            ]
          },
          "metadata": {
            "needs_background": "light"
          },
          "output_type": "display_data"
        }
      ],
      "source": [
        "#Displaying Correlation between varaibles using heatmap\n",
        "plt.figure(figsize=(12,10))\n",
        "cor = data.corr()\n",
        "sns.heatmap(cor, annot=True, cmap=plt.cm.RdYlGn)\n",
        "plt.show()"
      ]
    },
    {
      "cell_type": "code",
      "execution_count": null,
      "metadata": {
        "id": "xYWiZKY4QauN"
      },
      "outputs": [],
      "source": [
        "#This function filters out most correlated variables, threshold values is decided by us like 80% or more than that \n",
        "def correlation(data,threshold):\n",
        "    col_corr = set()\n",
        "    corr_matrix = data.corr()\n",
        "    for i in range(len(corr_matrix.columns)):\n",
        "        for j in range(i):\n",
        "            if abs(corr_matrix.iloc[i,j]) > threshold:\n",
        "                colname = corr_matrix.columns[i]\n",
        "                col_corr.add(colname)\n",
        "    return col_corr"
      ]
    },
    {
      "cell_type": "code",
      "execution_count": null,
      "metadata": {
        "id": "c4pIrNtvQauO",
        "outputId": "a2fc8ed6-339c-4194-d6bd-1055c27ebca8"
      },
      "outputs": [
        {
          "data": {
            "text/plain": [
              "0"
            ]
          },
          "execution_count": 871,
          "metadata": {},
          "output_type": "execute_result"
        }
      ],
      "source": [
        "#Getting ALL feature who are correlated to each other and had correlation values more than 60%\n",
        "corr_feature = correlation(data, 0.6)\n",
        "len(set(corr_feature))"
      ]
    },
    {
      "cell_type": "markdown",
      "metadata": {
        "id": "SWk04hm3QauO"
      },
      "source": [
        "Features selected on the basis of Pearson Correlation, and the features having correlation value more than 60% are dropped from the dataset as the have same effect over target variable .\n",
        "\n",
        "There is not avialible highely correlated variables."
      ]
    },
    {
      "cell_type": "markdown",
      "metadata": {
        "id": "o-Bf1JTiQauO"
      },
      "source": [
        "### Handle Categorical Data"
      ]
    },
    {
      "cell_type": "markdown",
      "metadata": {
        "id": "kmEpHMZKQauO"
      },
      "source": [
        "Categorical data refers to the information that has specific categories within the dataset. In the dataset cited above, there are many categorical variables .\n",
        "\n",
        "Machine Learning models are primarily based on mathematical equations. Thus, you can intuitively understand that keeping the categorical data in the equation will cause certain issues since you would only need numbers in the equations."
      ]
    },
    {
      "cell_type": "code",
      "execution_count": null,
      "metadata": {
        "id": "OaQr0cgHQauP",
        "outputId": "baa8763c-ebb0-42c0-d174-b7dec6a59c54"
      },
      "outputs": [
        {
          "name": "stdout",
          "output_type": "stream",
          "text": [
            "Index(['Gender', 'Marital Status', 'Occupation', 'Monthly Income',\n",
            "       'Educational Qualifications', 'Medium (P1)', 'Medium (P2)', 'Meal(P1)',\n",
            "       'Meal(P2)', 'Perference(P1)', 'Perference(P2)', 'Ease and convenient',\n",
            "       'Time saving', 'More restaurant choices', 'Easy Payment option',\n",
            "       'More Offers and Discount', 'Good Food quality', 'Good Tracking system',\n",
            "       'Self Cooking', 'Health Concern', 'Late Delivery', 'Poor Hygiene',\n",
            "       'Bad past experience', 'Unavailability', 'Unaffordable',\n",
            "       'Long delivery time', 'Delay of delivery person getting assigned',\n",
            "       'Delay of delivery person picking up food', 'Wrong order delivered',\n",
            "       'Missing item', 'Order placed by mistake', 'Influence of time',\n",
            "       'Order Time', 'Maximum wait time', 'Residence in busy location',\n",
            "       'Google Maps Accuracy', 'Good Road Condition', 'Low quantity low time',\n",
            "       'Delivery person ability', 'Influence of rating', 'Less Delivery time',\n",
            "       'High Quality of package', 'Number of calls', 'Politeness',\n",
            "       'Freshness ', 'Temperature', 'Good Taste ', 'Good Quantity', 'Output'],\n",
            "      dtype='object')\n"
          ]
        }
      ],
      "source": [
        "#Getting list of categorical variable\n",
        "objList = data.select_dtypes(include = \"object\").columns\n",
        "print (objList)"
      ]
    },
    {
      "cell_type": "code",
      "execution_count": null,
      "metadata": {
        "id": "u7pGJ36OQauP"
      },
      "outputs": [],
      "source": [
        "#Label Encoding for object to numeric conversion\n",
        "from sklearn.preprocessing import LabelEncoder\n",
        "le = LabelEncoder()\n",
        "\n",
        "#Converting all categorical variable to numerical values\n",
        "for feat in objList:\n",
        "    data[feat] = le.fit_transform(data[feat])"
      ]
    },
    {
      "cell_type": "markdown",
      "metadata": {
        "id": "kUEnucvYQauP"
      },
      "source": [
        "### Chi Square Test"
      ]
    },
    {
      "cell_type": "markdown",
      "metadata": {
        "id": "d-5Apd2DQauQ"
      },
      "source": [
        "Chi-Square test is a statistical method to determine if two categorical variables have a significant correlation between them. "
      ]
    },
    {
      "cell_type": "code",
      "execution_count": null,
      "metadata": {
        "id": "SoQjCcBPQauQ"
      },
      "outputs": [],
      "source": [
        "# Applying Chi Squared test\n",
        "# importing the chi2 library\n",
        "from sklearn.feature_selection import chi2"
      ]
    },
    {
      "cell_type": "code",
      "execution_count": null,
      "metadata": {
        "id": "wmQd-Qq5QauQ"
      },
      "outputs": [],
      "source": [
        "df= data[['Gender', 'Marital Status', 'Occupation', 'Monthly Income',\n",
        "       'Educational Qualifications', 'Medium (P1)', 'Medium (P2)', 'Meal(P1)',\n",
        "       'Meal(P2)', 'Perference(P1)', 'Perference(P2)', 'Ease and convenient',\n",
        "       'Time saving', 'More restaurant choices', 'Easy Payment option',\n",
        "       'More Offers and Discount', 'Good Food quality', 'Good Tracking system',\n",
        "       'Self Cooking', 'Health Concern', 'Late Delivery', 'Poor Hygiene',\n",
        "       'Bad past experience', 'Unavailability', 'Unaffordable',\n",
        "       'Long delivery time', 'Delay of delivery person getting assigned',\n",
        "       'Delay of delivery person picking up food', 'Wrong order delivered',\n",
        "       'Missing item', 'Order placed by mistake', 'Influence of time',\n",
        "       'Order Time', 'Maximum wait time', 'Residence in busy location',\n",
        "       'Google Maps Accuracy', 'Good Road Condition', 'Low quantity low time',\n",
        "       'Delivery person ability', 'Influence of rating', 'Less Delivery time',\n",
        "       'High Quality of package', 'Number of calls', 'Politeness',\n",
        "       'Freshness ', 'Temperature', 'Good Taste ', 'Good Quantity', 'Output']]"
      ]
    },
    {
      "cell_type": "code",
      "execution_count": null,
      "metadata": {
        "id": "jcethvhiQauQ"
      },
      "outputs": [],
      "source": [
        "#split df dataset in features and target variable\n",
        "x1=df.drop('Output',axis='columns') # independent vatiable \n",
        "y1=df['Output'] # dependent vatiable "
      ]
    },
    {
      "cell_type": "code",
      "execution_count": null,
      "metadata": {
        "id": "rp8OpmrkQauQ"
      },
      "outputs": [],
      "source": [
        "#returns f score and p value \n",
        "f_score = chi2(x1,y1) "
      ]
    },
    {
      "cell_type": "code",
      "execution_count": null,
      "metadata": {
        "id": "CB9Nl89dQauR",
        "outputId": "ee8cf8aa-1004-4f47-8720-cf907839d000"
      },
      "outputs": [
        {
          "name": "stdout",
          "output_type": "stream",
          "text": [
            "Self Cooking                                 0.000006\n",
            "Less Delivery time                           0.000601\n",
            "Occupation                                   0.001047\n",
            "Marital Status                               0.002192\n",
            "Maximum wait time                            0.002655\n",
            "Health Concern                               0.005315\n",
            "Residence in busy location                   0.005837\n",
            "Unavailability                               0.009278\n",
            "Bad past experience                          0.016209\n",
            "Freshness                                    0.017767\n",
            "Easy Payment option                          0.020905\n",
            "Number of calls                              0.021110\n",
            "Good Taste                                   0.030669\n",
            "Unaffordable                                 0.039857\n",
            "Educational Qualifications                   0.071282\n",
            "High Quality of package                      0.109305\n",
            "Delay of delivery person picking up food     0.131099\n",
            "Long delivery time                           0.134390\n",
            "Good Tracking system                         0.137765\n",
            "Low quantity low time                        0.147930\n",
            "Order placed by mistake                      0.199992\n",
            "Monthly Income                               0.230972\n",
            "Politeness                                   0.285080\n",
            "Temperature                                  0.290569\n",
            "More restaurant choices                      0.293796\n",
            "Missing item                                 0.298931\n",
            "Delivery person ability                      0.317389\n",
            "More Offers and Discount                     0.382972\n",
            "Influence of time                            0.398103\n",
            "Poor Hygiene                                 0.526983\n",
            "Gender                                       0.544057\n",
            "Wrong order delivered                        0.559360\n",
            "Delay of delivery person getting assigned    0.572140\n",
            "Perference(P1)                               0.586208\n",
            "Late Delivery                                0.592260\n",
            "Ease and convenient                          0.654623\n",
            "Medium (P1)                                  0.659697\n",
            "Good Quantity                                0.680370\n",
            "Meal(P2)                                     0.704626\n",
            "Influence of rating                          0.775883\n",
            "Medium (P2)                                  0.820261\n",
            "Time saving                                  0.827504\n",
            "Good Food quality                            0.845572\n",
            "Perference(P2)                               0.860221\n",
            "Meal(P1)                                     0.881751\n",
            "Order Time                                   0.938307\n",
            "Google Maps Accuracy                         0.940705\n",
            "Good Road Condition                          0.966585\n",
            "dtype: float64\n"
          ]
        }
      ],
      "source": [
        "p_value = pd.Series(f_score[1],index = x1.columns)\n",
        "# sort p value series\n",
        "p_value = p_value.sort_values(ascending = True)\n",
        "# print p value \n",
        "print(p_value)"
      ]
    },
    {
      "cell_type": "markdown",
      "metadata": {
        "id": "7sAjtTm8QauR"
      },
      "source": [
        "If p-value ≥0.05 ,failed to reject null hypothesis there is no any relationship between target variable and categorical features.\n",
        "\n",
        "if p_value <0.05 ,Rejects null hypothesis and there will be some relationship between target variable and categorical features and we will take all that features for further machine learning pipeline.let’s get started……"
      ]
    },
    {
      "cell_type": "code",
      "execution_count": null,
      "metadata": {
        "scrolled": true,
        "id": "YeYpOnJzQauR",
        "outputId": "dbbfb3ba-404f-45c0-88b6-7d8ccd25ddea"
      },
      "outputs": [
        {
          "name": "stdout",
          "output_type": "stream",
          "text": [
            "Self Cooking     :- Reject NULL HYPOTHESIS\n",
            "Less Delivery time     :- Reject NULL HYPOTHESIS\n",
            "Occupation     :- Reject NULL HYPOTHESIS\n",
            "Marital Status     :- Reject NULL HYPOTHESIS\n",
            "Maximum wait time     :- Reject NULL HYPOTHESIS\n",
            "Health Concern     :- Reject NULL HYPOTHESIS\n",
            "Residence in busy location     :- Reject NULL HYPOTHESIS\n",
            "Unavailability     :- Reject NULL HYPOTHESIS\n",
            "Bad past experience     :- Reject NULL HYPOTHESIS\n",
            "Freshness      :- Reject NULL HYPOTHESIS\n",
            "Easy Payment option     :- Reject NULL HYPOTHESIS\n",
            "Number of calls     :- Reject NULL HYPOTHESIS\n",
            "Good Taste      :- Reject NULL HYPOTHESIS\n",
            "Unaffordable     :- Reject NULL HYPOTHESIS\n",
            "Educational Qualifications    :-ACCEPT NULL HYPOTHESIS\n",
            "High Quality of package    :-ACCEPT NULL HYPOTHESIS\n",
            "Delay of delivery person picking up food    :-ACCEPT NULL HYPOTHESIS\n",
            "Long delivery time    :-ACCEPT NULL HYPOTHESIS\n",
            "Good Tracking system    :-ACCEPT NULL HYPOTHESIS\n",
            "Low quantity low time    :-ACCEPT NULL HYPOTHESIS\n",
            "Order placed by mistake    :-ACCEPT NULL HYPOTHESIS\n",
            "Monthly Income    :-ACCEPT NULL HYPOTHESIS\n",
            "Politeness    :-ACCEPT NULL HYPOTHESIS\n",
            "Temperature    :-ACCEPT NULL HYPOTHESIS\n",
            "More restaurant choices    :-ACCEPT NULL HYPOTHESIS\n",
            "Missing item    :-ACCEPT NULL HYPOTHESIS\n",
            "Delivery person ability    :-ACCEPT NULL HYPOTHESIS\n",
            "More Offers and Discount    :-ACCEPT NULL HYPOTHESIS\n",
            "Influence of time    :-ACCEPT NULL HYPOTHESIS\n",
            "Poor Hygiene    :-ACCEPT NULL HYPOTHESIS\n",
            "Gender    :-ACCEPT NULL HYPOTHESIS\n",
            "Wrong order delivered    :-ACCEPT NULL HYPOTHESIS\n",
            "Delay of delivery person getting assigned    :-ACCEPT NULL HYPOTHESIS\n",
            "Perference(P1)    :-ACCEPT NULL HYPOTHESIS\n",
            "Late Delivery    :-ACCEPT NULL HYPOTHESIS\n",
            "Ease and convenient    :-ACCEPT NULL HYPOTHESIS\n",
            "Medium (P1)    :-ACCEPT NULL HYPOTHESIS\n",
            "Good Quantity    :-ACCEPT NULL HYPOTHESIS\n",
            "Meal(P2)    :-ACCEPT NULL HYPOTHESIS\n",
            "Influence of rating    :-ACCEPT NULL HYPOTHESIS\n",
            "Medium (P2)    :-ACCEPT NULL HYPOTHESIS\n",
            "Time saving    :-ACCEPT NULL HYPOTHESIS\n",
            "Good Food quality    :-ACCEPT NULL HYPOTHESIS\n",
            "Perference(P2)    :-ACCEPT NULL HYPOTHESIS\n",
            "Meal(P1)    :-ACCEPT NULL HYPOTHESIS\n",
            "Order Time    :-ACCEPT NULL HYPOTHESIS\n",
            "Google Maps Accuracy    :-ACCEPT NULL HYPOTHESIS\n",
            "Good Road Condition    :-ACCEPT NULL HYPOTHESIS\n"
          ]
        }
      ],
      "source": [
        "corr_columns=[]\n",
        "significance_level = 0.05\n",
        "for i in p_value.index:\n",
        "    if p_value[i] <= significance_level: \n",
        "        print(i,'    :- Reject NULL HYPOTHESIS') \n",
        "    else: \n",
        "        print(i,'   :-ACCEPT NULL HYPOTHESIS')\n",
        "        corr_columns.append(i)\n",
        "        "
      ]
    },
    {
      "cell_type": "markdown",
      "metadata": {
        "id": "l5WMnUgqQauS"
      },
      "source": [
        "If we see above plot we can conclude that Self Cooking, Less Delivery time, Occupation, Marital Status, Maximum wait time, Health Concern, Residence in busy location, Unavailability, Bad past experience, Freshness, Easy Payment option, Number of calls, Good Taste and Unaffordable features has p_value <= 0.05 hence they have have significance on target variable.\n",
        "\n",
        "So we will only select Self Cooking, Less Delivery time, Occupation, Marital Status, Maximum wait time, Health Concern, Residence in busy location, Unavailability, Bad past experience, Freshness, Easy Payment option, Number of calls, Good Taste and Unaffordable for further machine learning modeling."
      ]
    },
    {
      "cell_type": "code",
      "execution_count": null,
      "metadata": {
        "id": "oz5u_E76QauS"
      },
      "outputs": [],
      "source": [
        "#dropping columns that will not add any value to prediction \n",
        "data.drop(labels=corr_columns,axis=1,inplace=True) "
      ]
    },
    {
      "cell_type": "code",
      "execution_count": null,
      "metadata": {
        "scrolled": true,
        "id": "PxQEEl_xQauS",
        "outputId": "c609ca38-65b7-4253-c4c4-ae94d9bbb773"
      },
      "outputs": [
        {
          "data": {
            "text/html": [
              "<div>\n",
              "<style scoped>\n",
              "    .dataframe tbody tr th:only-of-type {\n",
              "        vertical-align: middle;\n",
              "    }\n",
              "\n",
              "    .dataframe tbody tr th {\n",
              "        vertical-align: top;\n",
              "    }\n",
              "\n",
              "    .dataframe thead th {\n",
              "        text-align: right;\n",
              "    }\n",
              "</style>\n",
              "<table border=\"1\" class=\"dataframe\">\n",
              "  <thead>\n",
              "    <tr style=\"text-align: right;\">\n",
              "      <th></th>\n",
              "      <th>Age</th>\n",
              "      <th>Marital Status</th>\n",
              "      <th>Occupation</th>\n",
              "      <th>Family size</th>\n",
              "      <th>latitude</th>\n",
              "      <th>longitude</th>\n",
              "      <th>Pin code</th>\n",
              "      <th>Easy Payment option</th>\n",
              "      <th>Self Cooking</th>\n",
              "      <th>Health Concern</th>\n",
              "      <th>Bad past experience</th>\n",
              "      <th>Unavailability</th>\n",
              "      <th>Unaffordable</th>\n",
              "      <th>Maximum wait time</th>\n",
              "      <th>Residence in busy location</th>\n",
              "      <th>Less Delivery time</th>\n",
              "      <th>Number of calls</th>\n",
              "      <th>Freshness</th>\n",
              "      <th>Good Taste</th>\n",
              "      <th>Output</th>\n",
              "    </tr>\n",
              "  </thead>\n",
              "  <tbody>\n",
              "    <tr>\n",
              "      <th>0</th>\n",
              "      <td>20</td>\n",
              "      <td>2</td>\n",
              "      <td>3</td>\n",
              "      <td>4</td>\n",
              "      <td>12.9766</td>\n",
              "      <td>77.5993</td>\n",
              "      <td>560001</td>\n",
              "      <td>2</td>\n",
              "      <td>2</td>\n",
              "      <td>2</td>\n",
              "      <td>2</td>\n",
              "      <td>2</td>\n",
              "      <td>2</td>\n",
              "      <td>1</td>\n",
              "      <td>0</td>\n",
              "      <td>1</td>\n",
              "      <td>1</td>\n",
              "      <td>1</td>\n",
              "      <td>1</td>\n",
              "      <td>1</td>\n",
              "    </tr>\n",
              "    <tr>\n",
              "      <th>1</th>\n",
              "      <td>24</td>\n",
              "      <td>2</td>\n",
              "      <td>3</td>\n",
              "      <td>3</td>\n",
              "      <td>12.9770</td>\n",
              "      <td>77.5773</td>\n",
              "      <td>560009</td>\n",
              "      <td>3</td>\n",
              "      <td>3</td>\n",
              "      <td>3</td>\n",
              "      <td>3</td>\n",
              "      <td>3</td>\n",
              "      <td>3</td>\n",
              "      <td>1</td>\n",
              "      <td>3</td>\n",
              "      <td>4</td>\n",
              "      <td>4</td>\n",
              "      <td>4</td>\n",
              "      <td>4</td>\n",
              "      <td>1</td>\n",
              "    </tr>\n",
              "    <tr>\n",
              "      <th>14</th>\n",
              "      <td>23</td>\n",
              "      <td>2</td>\n",
              "      <td>2</td>\n",
              "      <td>5</td>\n",
              "      <td>12.9438</td>\n",
              "      <td>77.5738</td>\n",
              "      <td>560004</td>\n",
              "      <td>0</td>\n",
              "      <td>0</td>\n",
              "      <td>3</td>\n",
              "      <td>3</td>\n",
              "      <td>3</td>\n",
              "      <td>2</td>\n",
              "      <td>2</td>\n",
              "      <td>2</td>\n",
              "      <td>1</td>\n",
              "      <td>1</td>\n",
              "      <td>4</td>\n",
              "      <td>4</td>\n",
              "      <td>1</td>\n",
              "    </tr>\n",
              "    <tr>\n",
              "      <th>15</th>\n",
              "      <td>24</td>\n",
              "      <td>2</td>\n",
              "      <td>3</td>\n",
              "      <td>6</td>\n",
              "      <td>12.8893</td>\n",
              "      <td>77.6399</td>\n",
              "      <td>560068</td>\n",
              "      <td>3</td>\n",
              "      <td>3</td>\n",
              "      <td>3</td>\n",
              "      <td>1</td>\n",
              "      <td>2</td>\n",
              "      <td>1</td>\n",
              "      <td>1</td>\n",
              "      <td>3</td>\n",
              "      <td>1</td>\n",
              "      <td>1</td>\n",
              "      <td>4</td>\n",
              "      <td>4</td>\n",
              "      <td>1</td>\n",
              "    </tr>\n",
              "    <tr>\n",
              "      <th>16</th>\n",
              "      <td>28</td>\n",
              "      <td>2</td>\n",
              "      <td>0</td>\n",
              "      <td>2</td>\n",
              "      <td>12.9783</td>\n",
              "      <td>77.6408</td>\n",
              "      <td>560038</td>\n",
              "      <td>0</td>\n",
              "      <td>1</td>\n",
              "      <td>2</td>\n",
              "      <td>2</td>\n",
              "      <td>2</td>\n",
              "      <td>1</td>\n",
              "      <td>3</td>\n",
              "      <td>2</td>\n",
              "      <td>3</td>\n",
              "      <td>3</td>\n",
              "      <td>4</td>\n",
              "      <td>0</td>\n",
              "      <td>1</td>\n",
              "    </tr>\n",
              "  </tbody>\n",
              "</table>\n",
              "</div>"
            ],
            "text/plain": [
              "    Age  Marital Status  Occupation  Family size  latitude  longitude  \\\n",
              "0    20               2           3            4   12.9766    77.5993   \n",
              "1    24               2           3            3   12.9770    77.5773   \n",
              "14   23               2           2            5   12.9438    77.5738   \n",
              "15   24               2           3            6   12.8893    77.6399   \n",
              "16   28               2           0            2   12.9783    77.6408   \n",
              "\n",
              "    Pin code  Easy Payment option  Self Cooking  Health Concern  \\\n",
              "0     560001                    2             2               2   \n",
              "1     560009                    3             3               3   \n",
              "14    560004                    0             0               3   \n",
              "15    560068                    3             3               3   \n",
              "16    560038                    0             1               2   \n",
              "\n",
              "    Bad past experience  Unavailability  Unaffordable  Maximum wait time  \\\n",
              "0                     2               2             2                  1   \n",
              "1                     3               3             3                  1   \n",
              "14                    3               3             2                  2   \n",
              "15                    1               2             1                  1   \n",
              "16                    2               2             1                  3   \n",
              "\n",
              "    Residence in busy location  Less Delivery time  Number of calls  \\\n",
              "0                            0                   1                1   \n",
              "1                            3                   4                4   \n",
              "14                           2                   1                1   \n",
              "15                           3                   1                1   \n",
              "16                           2                   3                3   \n",
              "\n",
              "    Freshness   Good Taste   Output  \n",
              "0            1            1       1  \n",
              "1            4            4       1  \n",
              "14           4            4       1  \n",
              "15           4            4       1  \n",
              "16           4            0       1  "
            ]
          },
          "execution_count": 881,
          "metadata": {},
          "output_type": "execute_result"
        }
      ],
      "source": [
        "data.head()"
      ]
    },
    {
      "cell_type": "markdown",
      "metadata": {
        "id": "Sg5olSeMQauS"
      },
      "source": [
        "### Feature Scaling"
      ]
    },
    {
      "cell_type": "markdown",
      "metadata": {
        "id": "RLy-JZH2QauS"
      },
      "source": [
        "Feature scaling is the process of normalising the range of features in a dataset.\n",
        "\n",
        "Normalisation, also known as min-max scaling, is a scaling technique whereby the values in a column are shifted so that they are bounded between a fixed range of 0 and 1."
      ]
    },
    {
      "cell_type": "code",
      "execution_count": null,
      "metadata": {
        "id": "RtHdrIHKQauT"
      },
      "outputs": [],
      "source": [
        "#Call the sklearn librart and import MinMaxScaler\n",
        "from sklearn.preprocessing import MinMaxScaler"
      ]
    },
    {
      "cell_type": "code",
      "execution_count": null,
      "metadata": {
        "scrolled": true,
        "id": "MUGA04lUQauT",
        "outputId": "6cf0bfcf-8941-41a5-f1b1-8a9227bd78a4"
      },
      "outputs": [
        {
          "name": "stdout",
          "output_type": "stream",
          "text": [
            "Scaled Dataset Using MinMaxScaler\n"
          ]
        },
        {
          "data": {
            "text/html": [
              "<div>\n",
              "<style scoped>\n",
              "    .dataframe tbody tr th:only-of-type {\n",
              "        vertical-align: middle;\n",
              "    }\n",
              "\n",
              "    .dataframe tbody tr th {\n",
              "        vertical-align: top;\n",
              "    }\n",
              "\n",
              "    .dataframe thead th {\n",
              "        text-align: right;\n",
              "    }\n",
              "</style>\n",
              "<table border=\"1\" class=\"dataframe\">\n",
              "  <thead>\n",
              "    <tr style=\"text-align: right;\">\n",
              "      <th></th>\n",
              "      <th>Age</th>\n",
              "      <th>Marital Status</th>\n",
              "      <th>Occupation</th>\n",
              "      <th>Family size</th>\n",
              "      <th>latitude</th>\n",
              "      <th>longitude</th>\n",
              "      <th>Pin code</th>\n",
              "      <th>Easy Payment option</th>\n",
              "      <th>Self Cooking</th>\n",
              "      <th>Health Concern</th>\n",
              "      <th>Bad past experience</th>\n",
              "      <th>Unavailability</th>\n",
              "      <th>Unaffordable</th>\n",
              "      <th>Maximum wait time</th>\n",
              "      <th>Residence in busy location</th>\n",
              "      <th>Less Delivery time</th>\n",
              "      <th>Number of calls</th>\n",
              "      <th>Freshness</th>\n",
              "      <th>Good Taste</th>\n",
              "      <th>Output</th>\n",
              "    </tr>\n",
              "  </thead>\n",
              "  <tbody>\n",
              "    <tr>\n",
              "      <th>0</th>\n",
              "      <td>20</td>\n",
              "      <td>2</td>\n",
              "      <td>3</td>\n",
              "      <td>4</td>\n",
              "      <td>0.535062</td>\n",
              "      <td>0.514069</td>\n",
              "      <td>0.000000</td>\n",
              "      <td>2</td>\n",
              "      <td>2</td>\n",
              "      <td>2</td>\n",
              "      <td>2</td>\n",
              "      <td>2</td>\n",
              "      <td>2</td>\n",
              "      <td>1</td>\n",
              "      <td>0</td>\n",
              "      <td>1</td>\n",
              "      <td>1</td>\n",
              "      <td>1</td>\n",
              "      <td>1</td>\n",
              "      <td>1</td>\n",
              "    </tr>\n",
              "    <tr>\n",
              "      <th>1</th>\n",
              "      <td>24</td>\n",
              "      <td>2</td>\n",
              "      <td>3</td>\n",
              "      <td>3</td>\n",
              "      <td>0.536984</td>\n",
              "      <td>0.415811</td>\n",
              "      <td>0.074074</td>\n",
              "      <td>3</td>\n",
              "      <td>3</td>\n",
              "      <td>3</td>\n",
              "      <td>3</td>\n",
              "      <td>3</td>\n",
              "      <td>3</td>\n",
              "      <td>1</td>\n",
              "      <td>3</td>\n",
              "      <td>4</td>\n",
              "      <td>4</td>\n",
              "      <td>4</td>\n",
              "      <td>4</td>\n",
              "      <td>1</td>\n",
              "    </tr>\n",
              "    <tr>\n",
              "      <th>14</th>\n",
              "      <td>23</td>\n",
              "      <td>2</td>\n",
              "      <td>2</td>\n",
              "      <td>5</td>\n",
              "      <td>0.377522</td>\n",
              "      <td>0.400179</td>\n",
              "      <td>0.027778</td>\n",
              "      <td>0</td>\n",
              "      <td>0</td>\n",
              "      <td>3</td>\n",
              "      <td>3</td>\n",
              "      <td>3</td>\n",
              "      <td>2</td>\n",
              "      <td>2</td>\n",
              "      <td>2</td>\n",
              "      <td>1</td>\n",
              "      <td>1</td>\n",
              "      <td>4</td>\n",
              "      <td>4</td>\n",
              "      <td>1</td>\n",
              "    </tr>\n",
              "    <tr>\n",
              "      <th>15</th>\n",
              "      <td>24</td>\n",
              "      <td>2</td>\n",
              "      <td>3</td>\n",
              "      <td>6</td>\n",
              "      <td>0.115754</td>\n",
              "      <td>0.695400</td>\n",
              "      <td>0.620370</td>\n",
              "      <td>3</td>\n",
              "      <td>3</td>\n",
              "      <td>3</td>\n",
              "      <td>1</td>\n",
              "      <td>2</td>\n",
              "      <td>1</td>\n",
              "      <td>1</td>\n",
              "      <td>3</td>\n",
              "      <td>1</td>\n",
              "      <td>1</td>\n",
              "      <td>4</td>\n",
              "      <td>4</td>\n",
              "      <td>1</td>\n",
              "    </tr>\n",
              "    <tr>\n",
              "      <th>16</th>\n",
              "      <td>28</td>\n",
              "      <td>2</td>\n",
              "      <td>0</td>\n",
              "      <td>2</td>\n",
              "      <td>0.543228</td>\n",
              "      <td>0.699419</td>\n",
              "      <td>0.342593</td>\n",
              "      <td>0</td>\n",
              "      <td>1</td>\n",
              "      <td>2</td>\n",
              "      <td>2</td>\n",
              "      <td>2</td>\n",
              "      <td>1</td>\n",
              "      <td>3</td>\n",
              "      <td>2</td>\n",
              "      <td>3</td>\n",
              "      <td>3</td>\n",
              "      <td>4</td>\n",
              "      <td>0</td>\n",
              "      <td>1</td>\n",
              "    </tr>\n",
              "  </tbody>\n",
              "</table>\n",
              "</div>"
            ],
            "text/plain": [
              "    Age  Marital Status  Occupation  Family size  latitude  longitude  \\\n",
              "0    20               2           3            4  0.535062   0.514069   \n",
              "1    24               2           3            3  0.536984   0.415811   \n",
              "14   23               2           2            5  0.377522   0.400179   \n",
              "15   24               2           3            6  0.115754   0.695400   \n",
              "16   28               2           0            2  0.543228   0.699419   \n",
              "\n",
              "    Pin code  Easy Payment option  Self Cooking  Health Concern  \\\n",
              "0   0.000000                    2             2               2   \n",
              "1   0.074074                    3             3               3   \n",
              "14  0.027778                    0             0               3   \n",
              "15  0.620370                    3             3               3   \n",
              "16  0.342593                    0             1               2   \n",
              "\n",
              "    Bad past experience  Unavailability  Unaffordable  Maximum wait time  \\\n",
              "0                     2               2             2                  1   \n",
              "1                     3               3             3                  1   \n",
              "14                    3               3             2                  2   \n",
              "15                    1               2             1                  1   \n",
              "16                    2               2             1                  3   \n",
              "\n",
              "    Residence in busy location  Less Delivery time  Number of calls  \\\n",
              "0                            0                   1                1   \n",
              "1                            3                   4                4   \n",
              "14                           2                   1                1   \n",
              "15                           3                   1                1   \n",
              "16                           2                   3                3   \n",
              "\n",
              "    Freshness   Good Taste   Output  \n",
              "0            1            1       1  \n",
              "1            4            4       1  \n",
              "14           4            4       1  \n",
              "15           4            4       1  \n",
              "16           4            0       1  "
            ]
          },
          "execution_count": 883,
          "metadata": {},
          "output_type": "execute_result"
        }
      ],
      "source": [
        "# instantiate the MinMaxScaler\n",
        "scaler = MinMaxScaler()\n",
        "data[['latitude','longitude','Pin code']] = scaler.fit_transform(data[['latitude','longitude','Pin code']])\n",
        "print(\"Scaled Dataset Using MinMaxScaler\")\n",
        "data.head()"
      ]
    },
    {
      "cell_type": "markdown",
      "metadata": {
        "id": "8Iz-b0ycQauT"
      },
      "source": [
        "### Balancing the dataset"
      ]
    },
    {
      "cell_type": "markdown",
      "metadata": {
        "id": "Pa_WE8k6QauT"
      },
      "source": [
        "SMOTE (Synthetic Minority Oversampling Technique) is an oversampling technique that generates synthetic samples for the minority class in an imbalanced classification dataset.\n",
        "Imbalance means that the number of data points available for different classes is different. There are two classes, e.g. 90% points for one class and 10% for the other. Anything that has more the 79% and 21% ratio is said to be highly imbalanced data and they can cause serious problems to our ml models."
      ]
    },
    {
      "cell_type": "code",
      "execution_count": null,
      "metadata": {
        "id": "q0grJZFaQauT"
      },
      "outputs": [],
      "source": [
        "#split dataset in features and target variable\n",
        "X = data.drop('Output',axis='columns')\n",
        "y = data['Output']"
      ]
    },
    {
      "cell_type": "code",
      "execution_count": null,
      "metadata": {
        "id": "2FGsTrCCQauU"
      },
      "outputs": [],
      "source": [
        "from imblearn.over_sampling import SMOTE"
      ]
    },
    {
      "cell_type": "code",
      "execution_count": null,
      "metadata": {
        "id": "PiG_mec1QauU"
      },
      "outputs": [],
      "source": [
        "#Now just import it into your program and then just simply fit your X and y value to you SMOTE\n",
        "# Creating Object of SMOTE\n",
        "sm = SMOTE(random_state = 23)\n",
        "X_sm, y_sm = sm.fit_resample(X, y)"
      ]
    },
    {
      "cell_type": "markdown",
      "metadata": {
        "id": "gIw-LGwgQauU"
      },
      "source": [
        "Now you have successfully created the X_sm and y_sm that that have your completely balanced dataset."
      ]
    },
    {
      "cell_type": "markdown",
      "metadata": {
        "id": "QM3Z0LWRQauU"
      },
      "source": [
        "### Data Spliting"
      ]
    },
    {
      "cell_type": "markdown",
      "metadata": {
        "id": "Sa2KmOMDQauU"
      },
      "source": [
        "Splitting the dataset is the next step in data preprocessing in machine learning. Every dataset for Machine Learning model must be split into two separate sets – training set and test set. \n",
        "\n",
        "Training set denotes the subset of a dataset that is used for training the machine learning model. A test set, on the other hand, is the subset of the dataset that is used for testing the machine learning model. The ML model uses the test set to predict outcomes. \n",
        "\n",
        "Here, the second line splits the arrays of the dataset into random train and test subsets. Here includes four variables:\n",
        "\n",
        "x_train – features for the training data\n",
        "\n",
        "x_test – features for the test data\n",
        "\n",
        "y_train – dependent variables for training data\n",
        "\n",
        "y_test – independent variable for testing data"
      ]
    },
    {
      "cell_type": "code",
      "execution_count": null,
      "metadata": {
        "id": "D4VWDHNhQauV",
        "outputId": "7b9842ef-0d91-466d-d02c-e742aa462e41"
      },
      "outputs": [
        {
          "data": {
            "text/plain": [
              "((240, 19), (60, 19), (240,), (60,))"
            ]
          },
          "execution_count": 887,
          "metadata": {},
          "output_type": "execute_result"
        }
      ],
      "source": [
        "# Import train_test_split function\n",
        "from sklearn.model_selection import train_test_split\n",
        "# Split dataset into training set and test set\n",
        "X_train, X_test, y_train, y_test = train_test_split(X_sm,y_sm,test_size=0.2,random_state=23)\n",
        "\n",
        "X_train.shape, X_test.shape, y_train.shape, y_test.shape\n"
      ]
    },
    {
      "cell_type": "markdown",
      "metadata": {
        "id": "SapwKLoPQauV"
      },
      "source": [
        "### Model Building"
      ]
    },
    {
      "cell_type": "markdown",
      "metadata": {
        "id": "PXmkqw5ZQauV"
      },
      "source": [
        "Machine Learning models can be understood as a program that has been trained to find patterns within new data and make predictions. These models are represented as a mathematical function that takes requests in the form of input data, makes predictions on input data, and then provides an output in response.\n",
        "\n",
        "First, these models are trained over a set of data, and then they are provided an algorithm to reason over data, extract the pattern from feed data and learn from those data. Once these models get trained, they can be used to predict the unseen dataset."
      ]
    },
    {
      "cell_type": "markdown",
      "metadata": {
        "id": "I3YJVgrQQauV"
      },
      "source": [
        "### Random Forest"
      ]
    },
    {
      "cell_type": "markdown",
      "metadata": {
        "id": "yLof1O14QauV"
      },
      "source": [
        "Random forest is a supervised learning algorithm which is used for both classification as well as regression. As we know that a forest is made up of trees and more trees means more robust forest. \n",
        "\n",
        "Similarly, random forest algorithm creates decision trees on data samples and then gets the prediction from each of them and finally selects the best solution by means of voting. It is an ensemble method which is better than a single decision tree because it reduces the over-fitting by averaging the result."
      ]
    },
    {
      "cell_type": "code",
      "execution_count": null,
      "metadata": {
        "id": "O-4Nbop1QauW",
        "outputId": "67a12219-7317-4efd-a374-77688b194a14"
      },
      "outputs": [
        {
          "data": {
            "text/plain": [
              "RandomForestClassifier()"
            ]
          },
          "execution_count": 888,
          "metadata": {},
          "output_type": "execute_result"
        }
      ],
      "source": [
        "# Let’s import RandomForestClassifier and fit the data\n",
        "from sklearn.ensemble import RandomForestClassifier\n",
        "\n",
        "# instantiate the classifier \n",
        "classifier = RandomForestClassifier()\n",
        "\n",
        "# fit the model\n",
        "classifier.fit(X_train, y_train)"
      ]
    },
    {
      "cell_type": "code",
      "execution_count": null,
      "metadata": {
        "id": "tL_xhDPpQauW"
      },
      "outputs": [],
      "source": [
        "#Predicting the test set result  \n",
        "y_pred= classifier.predict(X_test)"
      ]
    },
    {
      "cell_type": "code",
      "execution_count": null,
      "metadata": {
        "id": "BR4Mly_ZQauW",
        "outputId": "e1966c3e-97cc-47ec-a3fe-115339456527"
      },
      "outputs": [
        {
          "name": "stdout",
          "output_type": "stream",
          "text": [
            "Accuracy: 0.95\n"
          ]
        }
      ],
      "source": [
        "# Model Accuracy, how often is the classifier correct?\n",
        "print(\"Accuracy:\",accuracy_score(y_test, y_pred))"
      ]
    },
    {
      "cell_type": "code",
      "execution_count": null,
      "metadata": {
        "id": "yCxxwU5AQauc",
        "outputId": "288515ff-bed5-48fe-e243-0fa01417cea8"
      },
      "outputs": [
        {
          "name": "stdout",
          "output_type": "stream",
          "text": [
            "F1-Score: 0.9433962264150944\n"
          ]
        }
      ],
      "source": [
        "#Get the F1-Score for  model\n",
        "print(\"F1-Score:\",f1_score(y_test, y_pred))"
      ]
    },
    {
      "cell_type": "markdown",
      "metadata": {
        "id": "xurLLg1IQauc"
      },
      "source": [
        "Classification report is another way to evaluate the classification model performance. It displays the precision, recall, f1 and support scores for the model.\n",
        "\n",
        "We can print a classification report as follows:-"
      ]
    },
    {
      "cell_type": "code",
      "execution_count": null,
      "metadata": {
        "scrolled": true,
        "id": "jnAwvrW9Qauc",
        "outputId": "b35b6def-2115-4844-c38e-0f8b7be7f2e4"
      },
      "outputs": [
        {
          "name": "stdout",
          "output_type": "stream",
          "text": [
            "              precision    recall  f1-score   support\n",
            "\n",
            "           0       0.97      0.94      0.96        34\n",
            "           1       0.93      0.96      0.94        26\n",
            "\n",
            "    accuracy                           0.95        60\n",
            "   macro avg       0.95      0.95      0.95        60\n",
            "weighted avg       0.95      0.95      0.95        60\n",
            "\n"
          ]
        }
      ],
      "source": [
        "print(classification_report(y_test, y_pred))"
      ]
    },
    {
      "cell_type": "markdown",
      "metadata": {
        "id": "btYFaFfgQauc"
      },
      "source": [
        "The model accuracy score  is 0.95 in the model. It is not a good score and there are lot of scope for improvement."
      ]
    },
    {
      "cell_type": "markdown",
      "metadata": {
        "id": "SpEHOD_sQaud"
      },
      "source": [
        "### Stacking Classifier"
      ]
    },
    {
      "cell_type": "markdown",
      "metadata": {
        "id": "u_c9RU7KQaud"
      },
      "source": [
        "Stacking is a way of ensembling classification or regression models it consists of two-layer estimators. The first layer consists of all the baseline models that are used to predict the outputs on the test datasets. The second layer consists of Meta-Classifier or Regressor which takes all the predictions of baseline models as an input and generate new predictions."
      ]
    },
    {
      "cell_type": "code",
      "execution_count": null,
      "metadata": {
        "id": "Yo9dvpL7Qaud"
      },
      "outputs": [],
      "source": [
        "from sklearn import model_selection # import model_selection\n",
        "from mlxtend.classifier import StackingClassifier # import Stacking classifier\n",
        "# Mlxtend (machine learning extensions) is a Python library of useful tools for day-to-day data science tasks.\n",
        "from xgboost import XGBClassifier # import XGB classifier\n",
        "from sklearn.ensemble import RandomForestClassifier # import Random Forest classifier\n",
        "from sklearn.ensemble import GradientBoostingClassifier # import Gradient Boosting classifier\n",
        "from sklearn.ensemble import AdaBoostClassifier # import AdaBoost classifier\n"
      ]
    },
    {
      "cell_type": "code",
      "execution_count": null,
      "metadata": {
        "id": "iDq7OCaoQaud"
      },
      "outputs": [],
      "source": [
        "clf1 = AdaBoostClassifier()\n",
        "clf2 = GradientBoostingClassifier()\n",
        "clf3 = RandomForestClassifier()\n",
        "\n",
        "xgb = XGBClassifier()\n",
        "sclf = StackingClassifier(classifiers=[clf1, clf2, clf3], \n",
        "                          meta_classifier=xgb)"
      ]
    },
    {
      "cell_type": "code",
      "execution_count": null,
      "metadata": {
        "scrolled": true,
        "id": "zuodJrJ7Qaud",
        "outputId": "81d18c30-3a7d-4db8-95cd-ce2a2f91ea37"
      },
      "outputs": [
        {
          "name": "stdout",
          "output_type": "stream",
          "text": [
            "5-fold cross validation:\n",
            "\n",
            "Accuracy: 0.86 (+/- 0.03) [Ada Boost]\n",
            "Accuracy: 0.90 (+/- 0.06) [Gradient Boosting]\n",
            "Accuracy: 0.89 (+/- 0.05) [Random Forest]\n",
            "Accuracy: 0.90 (+/- 0.06) [StackingClassifier]\n"
          ]
        }
      ],
      "source": [
        "print('5-fold cross validation:\\n')\n",
        "\n",
        "for clf, label in zip([clf1, clf2, clf3, sclf], \n",
        "                      ['Ada Boost', \n",
        "                       'Gradient Boosting', \n",
        "                       'Random Forest',\n",
        "                       'StackingClassifier']):\n",
        "\n",
        "    scores = model_selection.cross_val_score(clf, X_train, y_train, \n",
        "                                              cv=5, scoring='accuracy')\n",
        "    print(\"Accuracy: %0.2f (+/- %0.2f) [%s]\" \n",
        "          % (scores.mean(), scores.std(), label))"
      ]
    },
    {
      "cell_type": "markdown",
      "metadata": {
        "id": "76jcL26YQaue"
      },
      "source": [
        "Our individual Ada Boost models scores an accuracy of nearly 86% ,Gradient Boosting models scores an accuracy of nearly 90%, Random Forest models scores an accuracy of nearly 88%  and our Stacked model got an accuracy of nearly 90%. By Combining \n",
        "individual models we got a significant performance improvement."
      ]
    },
    {
      "cell_type": "markdown",
      "metadata": {
        "id": "lXvLEZC3Qaue"
      },
      "source": [
        "### Recommendations"
      ]
    },
    {
      "cell_type": "markdown",
      "metadata": {
        "id": "zB_S3qRCQaue"
      },
      "source": [
        "1. Attempt to minimise wait times so that consumers who have had to wait the longest for an order do not churn.\n",
        "2. Attempt to enhance previous experiences so that clients who are dissatisfied with previous experiences do not churn.\n",
        "3. You can cut the price of some items or supply various bundles for those customers who cannot afford the service and wish to churn.\n",
        "4. Customers who prioritise good taste are more likely to churn. As a result, make an effort to improve the excellent teste so that the client does not leave.\n",
        "5. Customers who have had their meal deliveries delayed want to order more. As a result, attempt to deliver quickly so that the consumer does not leave.\n",
        "6. Create a healthy environment for customers so that they do not churn."
      ]
    },
    {
      "cell_type": "code",
      "source": [
        ""
      ],
      "metadata": {
        "id": "TEwlXAqsg93G"
      },
      "execution_count": null,
      "outputs": []
    }
  ],
  "metadata": {
    "kernelspec": {
      "display_name": "Python 3",
      "language": "python",
      "name": "python3"
    },
    "language_info": {
      "codemirror_mode": {
        "name": "ipython",
        "version": 3
      },
      "file_extension": ".py",
      "mimetype": "text/x-python",
      "name": "python",
      "nbconvert_exporter": "python",
      "pygments_lexer": "ipython3",
      "version": "3.8.8"
    },
    "colab": {
      "name": "Customer Churn  Prediction .ipynb",
      "provenance": [],
      "collapsed_sections": [
        "KGKrCYyJQauG",
        "w14i-yftQauH",
        "BR2TWPEZQauI",
        "pj9G8TgJQauJ",
        "Q8rciajSQauK",
        "p7OonNgBQauN",
        "esZbw4QaQauN",
        "o-Bf1JTiQauO",
        "kUEnucvYQauP",
        "Sg5olSeMQauS",
        "8Iz-b0ycQauT",
        "QM3Z0LWRQauU"
      ]
    }
  },
  "nbformat": 4,
  "nbformat_minor": 0
}